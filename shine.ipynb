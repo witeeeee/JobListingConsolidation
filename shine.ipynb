{
 "cells": [
  {
   "cell_type": "code",
   "execution_count": 39,
   "metadata": {},
   "outputs": [],
   "source": [
    "from selenium import webdriver\n",
    "from selenium.webdriver.common.keys import Keys\n",
    "from selenium.webdriver.common.by import By\n",
    "import pandas as pd\n",
    "import time\n",
    "import os"
   ]
  },
  {
   "cell_type": "code",
   "execution_count": 40,
   "metadata": {},
   "outputs": [
    {
     "name": "stderr",
     "output_type": "stream",
     "text": [
      "<ipython-input-40-74b418f0778c>:1: DeprecationWarning: executable_path has been deprecated, please pass in a Service object\n",
      "  driver = webdriver.Chrome(\"C:\\Sid folder\\Studies\\Sem 6\\Web Mining\\DA Project\\chromedriverold.exe\")\n"
     ]
    }
   ],
   "source": [
    "driver = webdriver.Chrome(\"C:\\Sid folder\\Studies\\Sem 6\\Web Mining\\DA Project\\chromedriverold.exe\")\n",
    "\n",
    "driver.get('https://www.shine.com/job-search/any-jobs-in-india?q=Any&loc=India')\n",
    "driver.maximize_window()"
   ]
  },
  {
   "cell_type": "code",
   "execution_count": 41,
   "metadata": {},
   "outputs": [],
   "source": [
    "job_title = []\n",
    "company_name = []\n",
    "location = []\n",
    "job_link = []\n",
    "emp_type = []\n",
    "no_of_jobs = 1500"
   ]
  },
  {
   "cell_type": "code",
   "execution_count": 42,
   "metadata": {},
   "outputs": [],
   "source": [
    "x = 1\n",
    "driver.execute_script(\"window.scrollTo(0, document.body.scrollHeight);\")\n",
    "while x <= int(no_of_jobs/20)+1:\n",
    "    driver.execute_script(\"document.querySelector('#__next > div.main > div.container.jsrp_mobile_container__j7VQi > div > div.jsrp_jsrp_leftPanel__OTRuh.jsrp_leftPanel > div.jsrp_jsrp_leftPanel_container__dzv_w.custom_scroll > div').scrollTop = document.querySelector('#__next > div.main > div.container.jsrp_mobile_container__j7VQi > div > div.jsrp_jsrp_leftPanel__OTRuh.jsrp_leftPanel > div.jsrp_jsrp_leftPanel_container__dzv_w.custom_scroll > div').scrollHeight\")\n",
    "    time.sleep(1)\n",
    "    x += 1"
   ]
  },
  {
   "cell_type": "code",
   "execution_count": 43,
   "metadata": {},
   "outputs": [
    {
     "data": {
      "text/plain": [
       "1520"
      ]
     },
     "execution_count": 43,
     "metadata": {},
     "output_type": "execute_result"
    }
   ],
   "source": [
    "jobs = driver.find_elements(By.CLASS_NAME,\"jobCard_jobCard__jjUmu\")\n",
    "len(jobs)"
   ]
  },
  {
   "cell_type": "code",
   "execution_count": 44,
   "metadata": {},
   "outputs": [],
   "source": [
    "for job in jobs:\n",
    "    try:\n",
    "        temp = job.find_element(By.CSS_SELECTOR, \"h2\").get_attribute(\"innerText\")\n",
    "    except:\n",
    "        temp = \"None\"\n",
    "    job_title.append(temp)\n",
    "\n",
    "    try:\n",
    "        temp = job.find_element(By.CLASS_NAME, \"jobCard_jobCard_cName__mYnow\").get_attribute(\"innerText\")\n",
    "    except:\n",
    "        temp = \"None\"\n",
    "    company_name.append(temp)\n",
    "\n",
    "    try:\n",
    "        temp = job.find_element(By.CLASS_NAME, \"jobCard_locationIcon__zrWt2\").get_attribute(\"innerText\")\n",
    "    except:\n",
    "        temp = \"None\"\n",
    "    location.append(temp)\n",
    "\n",
    "    try:\n",
    "        temp = job.find_elements(By.TAG_NAME, \"li\")[-1].get_attribute(\"innerText\")\n",
    "    except:\n",
    "        temp = \"None\"\n",
    "    emp_type.append(temp)\n",
    "\n",
    "    try:\n",
    "        temp = job.find_element(By.TAG_NAME, \"meta\").get_attribute(\"content\")\n",
    "    except:\n",
    "        temp = \"None\"\n",
    "    job_link.append(temp)"
   ]
  },
  {
   "cell_type": "code",
   "execution_count": 53,
   "metadata": {},
   "outputs": [
    {
     "name": "stdout",
     "output_type": "stream",
     "text": [
      "Lead Consultant, UI Developer\n",
      "Genpact India Pvt. Ltd.\n",
      "Noida\n",
      "Regular\n",
      "\n",
      "Senior Associate Consultant\n",
      "Infosys Limited\n",
      "Bangalore\n",
      "Regular\n",
      "\n",
      "Vice President - Engagement Manager\n",
      "Genpact India Pvt. Ltd.\n",
      "Delhi\n",
      "Regular\n",
      "\n",
      "Hiring for Branch Collections Manager, CHENNAI , Produc ...\n",
      "RELIANCE COMMERCIAL FINANCE LIMITED\n",
      "Chennai\n",
      "Regular\n",
      "\n",
      "Hiring for Branch Collections Manager,Hyderabad Product ...\n",
      "RELIANCE COMMERCIAL FINANCE LIMITED\n",
      "Hyderabad\n",
      "Regular\n",
      "\n",
      "Customer Support Specialist\n",
      "JINDAL INTELLICOM LIMITED\n",
      "Delhi\n",
      "50 Positions\n",
      "\n",
      "Vacancy For Area Operations Manager in Hyderabad, Banga ...\n",
      "RELIANCE COMMERCIAL FINANCE LIMITED\n",
      "Bangalore\n",
      "+2\n",
      "3 Positions\n",
      "\n",
      "React Developer\n",
      "SMC Global Securities Ltd\n",
      "Noida\n",
      "+1\n",
      "2 Positions\n",
      "\n",
      "Opening For RM Dealing & RM Sales\n",
      "SMC Global Securities Ltd\n",
      "Chennai\n",
      "+4\n",
      "10 Positions\n",
      "\n",
      "Business Object Reporting Developer\n",
      "Quess Corp (Magna Infotech)\n",
      "All India\n",
      "4 Positions\n",
      "\n"
     ]
    }
   ],
   "source": [
    "for i in range(10):\n",
    "    print(job_title[i], company_name[i], location[i], emp_type[i], sep = \"\\n\")\n",
    "    print()\n",
    "\n",
    "driver.close()"
   ]
  },
  {
   "cell_type": "code",
   "execution_count": 54,
   "metadata": {},
   "outputs": [
    {
     "name": "stdout",
     "output_type": "stream",
     "text": [
      "db.csv already exists.\n"
     ]
    }
   ],
   "source": [
    "filename = \"db.csv\"\n",
    "\n",
    "if not os.path.exists(filename):\n",
    "    with open(filename, \"w\"):\n",
    "        print(f\"{filename} has been created.\")\n",
    "else:\n",
    "    print(f\"{filename} already exists.\")"
   ]
  },
  {
   "cell_type": "code",
   "execution_count": 55,
   "metadata": {},
   "outputs": [
    {
     "data": {
      "text/html": [
       "<div>\n",
       "<style scoped>\n",
       "    .dataframe tbody tr th:only-of-type {\n",
       "        vertical-align: middle;\n",
       "    }\n",
       "\n",
       "    .dataframe tbody tr th {\n",
       "        vertical-align: top;\n",
       "    }\n",
       "\n",
       "    .dataframe thead th {\n",
       "        text-align: right;\n",
       "    }\n",
       "</style>\n",
       "<table border=\"1\" class=\"dataframe\">\n",
       "  <thead>\n",
       "    <tr style=\"text-align: right;\">\n",
       "      <th></th>\n",
       "      <th>Title</th>\n",
       "      <th>Company</th>\n",
       "      <th>Location</th>\n",
       "      <th>Type</th>\n",
       "      <th>Link</th>\n",
       "    </tr>\n",
       "  </thead>\n",
       "  <tbody>\n",
       "    <tr>\n",
       "      <th>0</th>\n",
       "      <td>Lead Consultant, UI Developer</td>\n",
       "      <td>Genpact India Pvt. Ltd.</td>\n",
       "      <td>Noida</td>\n",
       "      <td>Regular</td>\n",
       "      <td>https://www.shine.com/jobs/lead-consultant-ui-...</td>\n",
       "    </tr>\n",
       "    <tr>\n",
       "      <th>1</th>\n",
       "      <td>Senior Associate Consultant</td>\n",
       "      <td>Infosys Limited</td>\n",
       "      <td>Bangalore</td>\n",
       "      <td>Regular</td>\n",
       "      <td>https://www.shine.com/jobs/senior-associate-co...</td>\n",
       "    </tr>\n",
       "    <tr>\n",
       "      <th>2</th>\n",
       "      <td>Vice President - Engagement Manager</td>\n",
       "      <td>Genpact India Pvt. Ltd.</td>\n",
       "      <td>Delhi</td>\n",
       "      <td>Regular</td>\n",
       "      <td>https://www.shine.com/jobs/vice-president-enga...</td>\n",
       "    </tr>\n",
       "    <tr>\n",
       "      <th>3</th>\n",
       "      <td>Hiring for Branch Collections Manager, CHENNAI...</td>\n",
       "      <td>RELIANCE COMMERCIAL FINANCE LIMITED</td>\n",
       "      <td>Chennai</td>\n",
       "      <td>Regular</td>\n",
       "      <td>https://www.shine.com/jobs/hiring-for-branch-c...</td>\n",
       "    </tr>\n",
       "    <tr>\n",
       "      <th>4</th>\n",
       "      <td>Hiring for Branch Collections Manager,Hyderaba...</td>\n",
       "      <td>RELIANCE COMMERCIAL FINANCE LIMITED</td>\n",
       "      <td>Hyderabad</td>\n",
       "      <td>Regular</td>\n",
       "      <td>https://www.shine.com/jobs/hiring-for-branch-c...</td>\n",
       "    </tr>\n",
       "    <tr>\n",
       "      <th>...</th>\n",
       "      <td>...</td>\n",
       "      <td>...</td>\n",
       "      <td>...</td>\n",
       "      <td>...</td>\n",
       "      <td>...</td>\n",
       "    </tr>\n",
       "    <tr>\n",
       "      <th>1515</th>\n",
       "      <td>EY - Director - Cyber Security - Government Ad...</td>\n",
       "      <td>EY India</td>\n",
       "      <td>Delhi</td>\n",
       "      <td>Regular</td>\n",
       "      <td>https://www.shine.com/jobs/ey-director-cyber-s...</td>\n",
       "    </tr>\n",
       "    <tr>\n",
       "      <th>1516</th>\n",
       "      <td>SafexPay - Head - Technology</td>\n",
       "      <td>Paygate India Private Limited</td>\n",
       "      <td>Mumbai City</td>\n",
       "      <td>Regular</td>\n",
       "      <td>https://www.shine.com/jobs/safexpay-head-techn...</td>\n",
       "    </tr>\n",
       "    <tr>\n",
       "      <th>1517</th>\n",
       "      <td>Process Developer - Accounts Payable</td>\n",
       "      <td>Genpact India Pvt. Ltd.</td>\n",
       "      <td>Kolkata</td>\n",
       "      <td>Regular</td>\n",
       "      <td>https://www.shine.com/jobs/process-developer-a...</td>\n",
       "    </tr>\n",
       "    <tr>\n",
       "      <th>1518</th>\n",
       "      <td>Continuum Green Energy - Company Secretary</td>\n",
       "      <td>Continuum Green Energy (India) Pvt ...</td>\n",
       "      <td>Mumbai City</td>\n",
       "      <td>Regular</td>\n",
       "      <td>https://www.shine.com/jobs/continuum-green-ene...</td>\n",
       "    </tr>\n",
       "    <tr>\n",
       "      <th>1519</th>\n",
       "      <td>Senior Consultant - SAP TRM - Government Advisory</td>\n",
       "      <td>EY India</td>\n",
       "      <td>Delhi</td>\n",
       "      <td>Regular</td>\n",
       "      <td>https://www.shine.com/jobs/senior-consultant-s...</td>\n",
       "    </tr>\n",
       "  </tbody>\n",
       "</table>\n",
       "<p>1520 rows × 5 columns</p>\n",
       "</div>"
      ],
      "text/plain": [
       "                                                  Title  \\\n",
       "0                         Lead Consultant, UI Developer   \n",
       "1                           Senior Associate Consultant   \n",
       "2                   Vice President - Engagement Manager   \n",
       "3     Hiring for Branch Collections Manager, CHENNAI...   \n",
       "4     Hiring for Branch Collections Manager,Hyderaba...   \n",
       "...                                                 ...   \n",
       "1515  EY - Director - Cyber Security - Government Ad...   \n",
       "1516                       SafexPay - Head - Technology   \n",
       "1517               Process Developer - Accounts Payable   \n",
       "1518         Continuum Green Energy - Company Secretary   \n",
       "1519  Senior Consultant - SAP TRM - Government Advisory   \n",
       "\n",
       "                                     Company     Location     Type  \\\n",
       "0                    Genpact India Pvt. Ltd.        Noida  Regular   \n",
       "1                            Infosys Limited    Bangalore  Regular   \n",
       "2                    Genpact India Pvt. Ltd.        Delhi  Regular   \n",
       "3        RELIANCE COMMERCIAL FINANCE LIMITED      Chennai  Regular   \n",
       "4        RELIANCE COMMERCIAL FINANCE LIMITED    Hyderabad  Regular   \n",
       "...                                      ...          ...      ...   \n",
       "1515                                EY India        Delhi  Regular   \n",
       "1516           Paygate India Private Limited  Mumbai City  Regular   \n",
       "1517                 Genpact India Pvt. Ltd.      Kolkata  Regular   \n",
       "1518  Continuum Green Energy (India) Pvt ...  Mumbai City  Regular   \n",
       "1519                                EY India        Delhi  Regular   \n",
       "\n",
       "                                                   Link  \n",
       "0     https://www.shine.com/jobs/lead-consultant-ui-...  \n",
       "1     https://www.shine.com/jobs/senior-associate-co...  \n",
       "2     https://www.shine.com/jobs/vice-president-enga...  \n",
       "3     https://www.shine.com/jobs/hiring-for-branch-c...  \n",
       "4     https://www.shine.com/jobs/hiring-for-branch-c...  \n",
       "...                                                 ...  \n",
       "1515  https://www.shine.com/jobs/ey-director-cyber-s...  \n",
       "1516  https://www.shine.com/jobs/safexpay-head-techn...  \n",
       "1517  https://www.shine.com/jobs/process-developer-a...  \n",
       "1518  https://www.shine.com/jobs/continuum-green-ene...  \n",
       "1519  https://www.shine.com/jobs/senior-consultant-s...  \n",
       "\n",
       "[1520 rows x 5 columns]"
      ]
     },
     "metadata": {},
     "output_type": "display_data"
    }
   ],
   "source": [
    "job_data = pd.DataFrame({\n",
    "    \"Title\": job_title,\n",
    "    \"Company\": company_name,\n",
    "    \"Location\": location,\n",
    "    \"Type\": emp_type,\n",
    "    \"Link\": job_link\n",
    "})\n",
    "\n",
    "display(job_data)\n",
    "\n",
    "job_data.to_csv(\"db.csv\", mode = 'a', index = False, header = False)"
   ]
  }
 ],
 "metadata": {
  "kernelspec": {
   "display_name": "Python 3",
   "language": "python",
   "name": "python3"
  },
  "language_info": {
   "codemirror_mode": {
    "name": "ipython",
    "version": 3
   },
   "file_extension": ".py",
   "mimetype": "text/x-python",
   "name": "python",
   "nbconvert_exporter": "python",
   "pygments_lexer": "ipython3",
   "version": "3.9.1"
  },
  "orig_nbformat": 4,
  "vscode": {
   "interpreter": {
    "hash": "5141b93c7f4dd1526296376213e38bee896987f0554e47aae2ed9552691fbc55"
   }
  }
 },
 "nbformat": 4,
 "nbformat_minor": 2
}
