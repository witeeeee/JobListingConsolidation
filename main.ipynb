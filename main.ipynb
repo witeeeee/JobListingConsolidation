{
 "cells": [
  {
   "cell_type": "code",
   "execution_count": 121,
   "metadata": {},
   "outputs": [
    {
     "name": "stderr",
     "output_type": "stream",
     "text": [
      "[nltk_data] Error loading punkt: <urlopen error [Errno 11001]\n",
      "[nltk_data]     getaddrinfo failed>\n"
     ]
    },
    {
     "data": {
      "text/plain": [
       "False"
      ]
     },
     "execution_count": 121,
     "metadata": {},
     "output_type": "execute_result"
    }
   ],
   "source": [
    "import pandas as pd\n",
    "import re\n",
    "import numpy as np\n",
    "import nltk \n",
    "import math\n",
    "from nltk.corpus import stopwords \n",
    "\n",
    "stop_words = set(stopwords.words('english'))\n",
    "nltk.download(\"punkt\")"
   ]
  },
  {
   "cell_type": "code",
   "execution_count": 122,
   "metadata": {},
   "outputs": [
    {
     "data": {
      "text/html": [
       "<div>\n",
       "<style scoped>\n",
       "    .dataframe tbody tr th:only-of-type {\n",
       "        vertical-align: middle;\n",
       "    }\n",
       "\n",
       "    .dataframe tbody tr th {\n",
       "        vertical-align: top;\n",
       "    }\n",
       "\n",
       "    .dataframe thead th {\n",
       "        text-align: right;\n",
       "    }\n",
       "</style>\n",
       "<table border=\"1\" class=\"dataframe\">\n",
       "  <thead>\n",
       "    <tr style=\"text-align: right;\">\n",
       "      <th></th>\n",
       "      <th>Title</th>\n",
       "      <th>Company</th>\n",
       "      <th>Location</th>\n",
       "      <th>Type</th>\n",
       "      <th>Link</th>\n",
       "    </tr>\n",
       "  </thead>\n",
       "  <tbody>\n",
       "    <tr>\n",
       "      <th>0</th>\n",
       "      <td>Teaching Faculty</td>\n",
       "      <td>SONAM TUITIONS</td>\n",
       "      <td>Kalyan, Maharashtra</td>\n",
       "      <td>Flexible shift</td>\n",
       "      <td>https://in.indeed.com/pagead/clk?mo=r&amp;ad=-6NYl...</td>\n",
       "    </tr>\n",
       "    <tr>\n",
       "      <th>1</th>\n",
       "      <td>Norwegian content writer required</td>\n",
       "      <td>Great Ponton</td>\n",
       "      <td>Mumbai, Maharashtra</td>\n",
       "      <td>Day shift</td>\n",
       "      <td>https://in.indeed.com/pagead/clk?mo=r&amp;ad=-6NYl...</td>\n",
       "    </tr>\n",
       "    <tr>\n",
       "      <th>2</th>\n",
       "      <td>MBA (Marketing)</td>\n",
       "      <td>Astrotel Pvt Ltd</td>\n",
       "      <td>Kanpur, Uttar Pradesh</td>\n",
       "      <td>Full-time</td>\n",
       "      <td>https://in.indeed.com/pagead/clk?mo=r&amp;ad=-6NYl...</td>\n",
       "    </tr>\n",
       "    <tr>\n",
       "      <th>3</th>\n",
       "      <td>Visa counsellor</td>\n",
       "      <td>VISA SPOT</td>\n",
       "      <td>Mohali, Punjab</td>\n",
       "      <td>Full-time</td>\n",
       "      <td>https://in.indeed.com/pagead/clk?mo=r&amp;ad=-6NYl...</td>\n",
       "    </tr>\n",
       "    <tr>\n",
       "      <th>4</th>\n",
       "      <td>Scrum Master 4</td>\n",
       "      <td>Comcast</td>\n",
       "      <td>Chennai, Tamil Nadu</td>\n",
       "      <td>Weekend availability</td>\n",
       "      <td>https://in.indeed.com/pagead/clk?mo=r&amp;ad=-6NYl...</td>\n",
       "    </tr>\n",
       "  </tbody>\n",
       "</table>\n",
       "</div>"
      ],
      "text/plain": [
       "                               Title           Company               Location  \\\n",
       "0                   Teaching Faculty    SONAM TUITIONS    Kalyan, Maharashtra   \n",
       "1  Norwegian content writer required      Great Ponton    Mumbai, Maharashtra   \n",
       "2                    MBA (Marketing)  Astrotel Pvt Ltd  Kanpur, Uttar Pradesh   \n",
       "3                    Visa counsellor         VISA SPOT         Mohali, Punjab   \n",
       "4                     Scrum Master 4           Comcast    Chennai, Tamil Nadu   \n",
       "\n",
       "                   Type                                               Link  \n",
       "0        Flexible shift  https://in.indeed.com/pagead/clk?mo=r&ad=-6NYl...  \n",
       "1             Day shift  https://in.indeed.com/pagead/clk?mo=r&ad=-6NYl...  \n",
       "2             Full-time  https://in.indeed.com/pagead/clk?mo=r&ad=-6NYl...  \n",
       "3             Full-time  https://in.indeed.com/pagead/clk?mo=r&ad=-6NYl...  \n",
       "4  Weekend availability  https://in.indeed.com/pagead/clk?mo=r&ad=-6NYl...  "
      ]
     },
     "execution_count": 122,
     "metadata": {},
     "output_type": "execute_result"
    }
   ],
   "source": [
    "ds = pd.read_csv(\"db.csv\", header=None)\n",
    "ds.columns = [\"Title\", \"Company\", \"Location\", \"Type\", \"Link\"]\n",
    "\n",
    "ds.head()"
   ]
  },
  {
   "cell_type": "code",
   "execution_count": 123,
   "metadata": {},
   "outputs": [
    {
     "data": {
      "text/html": [
       "<div>\n",
       "<style scoped>\n",
       "    .dataframe tbody tr th:only-of-type {\n",
       "        vertical-align: middle;\n",
       "    }\n",
       "\n",
       "    .dataframe tbody tr th {\n",
       "        vertical-align: top;\n",
       "    }\n",
       "\n",
       "    .dataframe thead th {\n",
       "        text-align: right;\n",
       "    }\n",
       "</style>\n",
       "<table border=\"1\" class=\"dataframe\">\n",
       "  <thead>\n",
       "    <tr style=\"text-align: right;\">\n",
       "      <th></th>\n",
       "      <th>job_title</th>\n",
       "      <th>role</th>\n",
       "      <th>industry</th>\n",
       "    </tr>\n",
       "  </thead>\n",
       "  <tbody>\n",
       "    <tr>\n",
       "      <th>0</th>\n",
       "      <td>Digital Media Planner</td>\n",
       "      <td>Advertising</td>\n",
       "      <td>Advertising, PR, MR, Event Management</td>\n",
       "    </tr>\n",
       "    <tr>\n",
       "      <th>1</th>\n",
       "      <td>Online Bidding Executive</td>\n",
       "      <td>Retail Sales</td>\n",
       "      <td>IT-Software, Software Services</td>\n",
       "    </tr>\n",
       "    <tr>\n",
       "      <th>2</th>\n",
       "      <td>Trainee Research/ Research Executive- Hi- Tec...</td>\n",
       "      <td>R&amp;D</td>\n",
       "      <td>Recruitment, Staffing</td>\n",
       "    </tr>\n",
       "    <tr>\n",
       "      <th>3</th>\n",
       "      <td>Technical Support</td>\n",
       "      <td>Admin/Maintenance/Security/Datawarehousing</td>\n",
       "      <td>IT-Software, Software Services</td>\n",
       "    </tr>\n",
       "    <tr>\n",
       "      <th>4</th>\n",
       "      <td>Software Test Engineer -hyderabad</td>\n",
       "      <td>Programming &amp; Design</td>\n",
       "      <td>IT-Software, Software Services</td>\n",
       "    </tr>\n",
       "  </tbody>\n",
       "</table>\n",
       "</div>"
      ],
      "text/plain": [
       "                                           job_title  \\\n",
       "0                              Digital Media Planner   \n",
       "1                           Online Bidding Executive   \n",
       "2   Trainee Research/ Research Executive- Hi- Tec...   \n",
       "3                                  Technical Support   \n",
       "4                  Software Test Engineer -hyderabad   \n",
       "\n",
       "                                         role  \\\n",
       "0                                 Advertising   \n",
       "1                                Retail Sales   \n",
       "2                                         R&D   \n",
       "3  Admin/Maintenance/Security/Datawarehousing   \n",
       "4                        Programming & Design   \n",
       "\n",
       "                                industry  \n",
       "0  Advertising, PR, MR, Event Management  \n",
       "1         IT-Software, Software Services  \n",
       "2                  Recruitment, Staffing  \n",
       "3         IT-Software, Software Services  \n",
       "4         IT-Software, Software Services  "
      ]
     },
     "execution_count": 123,
     "metadata": {},
     "output_type": "execute_result"
    }
   ],
   "source": [
    "sample = pd.read_csv(\"naukri.csv\")\n",
    "\n",
    "sample.head()"
   ]
  },
  {
   "cell_type": "code",
   "execution_count": 124,
   "metadata": {},
   "outputs": [
    {
     "data": {
      "text/html": [
       "<div>\n",
       "<style scoped>\n",
       "    .dataframe tbody tr th:only-of-type {\n",
       "        vertical-align: middle;\n",
       "    }\n",
       "\n",
       "    .dataframe tbody tr th {\n",
       "        vertical-align: top;\n",
       "    }\n",
       "\n",
       "    .dataframe thead th {\n",
       "        text-align: right;\n",
       "    }\n",
       "</style>\n",
       "<table border=\"1\" class=\"dataframe\">\n",
       "  <thead>\n",
       "    <tr style=\"text-align: right;\">\n",
       "      <th></th>\n",
       "      <th>job_title</th>\n",
       "      <th>role</th>\n",
       "      <th>industry</th>\n",
       "    </tr>\n",
       "  </thead>\n",
       "  <tbody>\n",
       "    <tr>\n",
       "      <th>0</th>\n",
       "      <td>Digital Media Planner</td>\n",
       "      <td>Advertising</td>\n",
       "      <td>Advertising</td>\n",
       "    </tr>\n",
       "    <tr>\n",
       "      <th>1</th>\n",
       "      <td>Online Bidding Executive</td>\n",
       "      <td>Retail Sales</td>\n",
       "      <td>IT-Software</td>\n",
       "    </tr>\n",
       "    <tr>\n",
       "      <th>2</th>\n",
       "      <td>Trainee Research/ Research Executive- Hi- Tec...</td>\n",
       "      <td>R&amp;D</td>\n",
       "      <td>Recruitment</td>\n",
       "    </tr>\n",
       "    <tr>\n",
       "      <th>3</th>\n",
       "      <td>Technical Support</td>\n",
       "      <td>Admin/Maintenance/Security/Datawarehousing</td>\n",
       "      <td>IT-Software</td>\n",
       "    </tr>\n",
       "    <tr>\n",
       "      <th>4</th>\n",
       "      <td>Software Test Engineer -hyderabad</td>\n",
       "      <td>Programming &amp; Design</td>\n",
       "      <td>IT-Software</td>\n",
       "    </tr>\n",
       "  </tbody>\n",
       "</table>\n",
       "</div>"
      ],
      "text/plain": [
       "                                           job_title  \\\n",
       "0                              Digital Media Planner   \n",
       "1                           Online Bidding Executive   \n",
       "2   Trainee Research/ Research Executive- Hi- Tec...   \n",
       "3                                  Technical Support   \n",
       "4                  Software Test Engineer -hyderabad   \n",
       "\n",
       "                                         role     industry  \n",
       "0                                 Advertising  Advertising  \n",
       "1                                Retail Sales  IT-Software  \n",
       "2                                         R&D  Recruitment  \n",
       "3  Admin/Maintenance/Security/Datawarehousing  IT-Software  \n",
       "4                        Programming & Design  IT-Software  "
      ]
     },
     "execution_count": 124,
     "metadata": {},
     "output_type": "execute_result"
    }
   ],
   "source": [
    "sample = sample.dropna()\n",
    "sample.industry = sample.industry.apply(lambda x: re.split(',| ', x)[0])\n",
    "sample.head()"
   ]
  },
  {
   "cell_type": "code",
   "execution_count": 125,
   "metadata": {},
   "outputs": [
    {
     "data": {
      "text/html": [
       "<div>\n",
       "<style scoped>\n",
       "    .dataframe tbody tr th:only-of-type {\n",
       "        vertical-align: middle;\n",
       "    }\n",
       "\n",
       "    .dataframe tbody tr th {\n",
       "        vertical-align: top;\n",
       "    }\n",
       "\n",
       "    .dataframe thead th {\n",
       "        text-align: right;\n",
       "    }\n",
       "</style>\n",
       "<table border=\"1\" class=\"dataframe\">\n",
       "  <thead>\n",
       "    <tr style=\"text-align: right;\">\n",
       "      <th></th>\n",
       "      <th>job_title</th>\n",
       "      <th>role</th>\n",
       "      <th>industry</th>\n",
       "    </tr>\n",
       "  </thead>\n",
       "  <tbody>\n",
       "    <tr>\n",
       "      <th>0</th>\n",
       "      <td>Digital Media Planner</td>\n",
       "      <td>Advertising</td>\n",
       "      <td>Advertising</td>\n",
       "    </tr>\n",
       "    <tr>\n",
       "      <th>1</th>\n",
       "      <td>Online Bidding Executive</td>\n",
       "      <td>Retail Sales</td>\n",
       "      <td>IT-Software</td>\n",
       "    </tr>\n",
       "    <tr>\n",
       "      <th>2</th>\n",
       "      <td>Trainee Research/ Research Executive- Hi- Tec...</td>\n",
       "      <td>R&amp;D</td>\n",
       "      <td>Recruitment</td>\n",
       "    </tr>\n",
       "    <tr>\n",
       "      <th>3</th>\n",
       "      <td>Technical Support</td>\n",
       "      <td>Admin/Maintenance/Security/Datawarehousing</td>\n",
       "      <td>IT-Software</td>\n",
       "    </tr>\n",
       "    <tr>\n",
       "      <th>4</th>\n",
       "      <td>Software Test Engineer -hyderabad</td>\n",
       "      <td>Programming &amp; Design</td>\n",
       "      <td>IT-Software</td>\n",
       "    </tr>\n",
       "  </tbody>\n",
       "</table>\n",
       "</div>"
      ],
      "text/plain": [
       "                                           job_title  \\\n",
       "0                              Digital Media Planner   \n",
       "1                           Online Bidding Executive   \n",
       "2   Trainee Research/ Research Executive- Hi- Tec...   \n",
       "3                                  Technical Support   \n",
       "4                  Software Test Engineer -hyderabad   \n",
       "\n",
       "                                         role     industry  \n",
       "0                                 Advertising  Advertising  \n",
       "1                                Retail Sales  IT-Software  \n",
       "2                                         R&D  Recruitment  \n",
       "3  Admin/Maintenance/Security/Datawarehousing  IT-Software  \n",
       "4                        Programming & Design  IT-Software  "
      ]
     },
     "execution_count": 125,
     "metadata": {},
     "output_type": "execute_result"
    }
   ],
   "source": [
    "industry_counts = sample['industry'].value_counts()\n",
    "\n",
    "popular_industries = industry_counts[industry_counts>5]\n",
    "\n",
    "popular_industries_list = popular_industries.index.tolist()\n",
    "\n",
    "sample = sample[sample['industry'].isin(popular_industries_list)]\n",
    "\n",
    "sample.head()"
   ]
  },
  {
   "cell_type": "code",
   "execution_count": 126,
   "metadata": {},
   "outputs": [
    {
     "data": {
      "text/html": [
       "<div>\n",
       "<style scoped>\n",
       "    .dataframe tbody tr th:only-of-type {\n",
       "        vertical-align: middle;\n",
       "    }\n",
       "\n",
       "    .dataframe tbody tr th {\n",
       "        vertical-align: top;\n",
       "    }\n",
       "\n",
       "    .dataframe thead th {\n",
       "        text-align: right;\n",
       "    }\n",
       "</style>\n",
       "<table border=\"1\" class=\"dataframe\">\n",
       "  <thead>\n",
       "    <tr style=\"text-align: right;\">\n",
       "      <th></th>\n",
       "      <th>job_title</th>\n",
       "      <th>role</th>\n",
       "      <th>industry</th>\n",
       "    </tr>\n",
       "  </thead>\n",
       "  <tbody>\n",
       "    <tr>\n",
       "      <th>0</th>\n",
       "      <td>Digital Media Planner</td>\n",
       "      <td>Advertising</td>\n",
       "      <td>Advertising</td>\n",
       "    </tr>\n",
       "    <tr>\n",
       "      <th>1</th>\n",
       "      <td>Online Bidding Executive</td>\n",
       "      <td>Retail Sales</td>\n",
       "      <td>IT Software</td>\n",
       "    </tr>\n",
       "    <tr>\n",
       "      <th>2</th>\n",
       "      <td>Trainee Research/ Research Executive- Hi- Tec...</td>\n",
       "      <td>R&amp;D</td>\n",
       "      <td>Recruitment</td>\n",
       "    </tr>\n",
       "    <tr>\n",
       "      <th>3</th>\n",
       "      <td>Technical Support</td>\n",
       "      <td>Admin/Maintenance/Security/Datawarehousing</td>\n",
       "      <td>IT Software</td>\n",
       "    </tr>\n",
       "    <tr>\n",
       "      <th>4</th>\n",
       "      <td>Software Test Engineer -hyderabad</td>\n",
       "      <td>Programming &amp; Design</td>\n",
       "      <td>IT Software</td>\n",
       "    </tr>\n",
       "  </tbody>\n",
       "</table>\n",
       "</div>"
      ],
      "text/plain": [
       "                                           job_title  \\\n",
       "0                              Digital Media Planner   \n",
       "1                           Online Bidding Executive   \n",
       "2   Trainee Research/ Research Executive- Hi- Tec...   \n",
       "3                                  Technical Support   \n",
       "4                  Software Test Engineer -hyderabad   \n",
       "\n",
       "                                         role     industry  \n",
       "0                                 Advertising  Advertising  \n",
       "1                                Retail Sales  IT Software  \n",
       "2                                         R&D  Recruitment  \n",
       "3  Admin/Maintenance/Security/Datawarehousing  IT Software  \n",
       "4                        Programming & Design  IT Software  "
      ]
     },
     "execution_count": 126,
     "metadata": {},
     "output_type": "execute_result"
    }
   ],
   "source": [
    "sample['industry'] = sample['industry'].apply(lambda x: x.replace('-', ' '))\n",
    "sample.head()"
   ]
  },
  {
   "cell_type": "code",
   "execution_count": 127,
   "metadata": {},
   "outputs": [],
   "source": [
    "import sklearn.metrics as mt\n",
    "\n",
    "from sklearn.svm import SVC\n",
    "from sklearn.metrics import confusion_matrix, accuracy_score, precision_score, recall_score, f1_score\n",
    "from sklearn.naive_bayes import MultinomialNB\n",
    "from sklearn.model_selection import train_test_split\n",
    "from sklearn.feature_extraction.text import CountVectorizer"
   ]
  },
  {
   "cell_type": "code",
   "execution_count": 128,
   "metadata": {},
   "outputs": [],
   "source": [
    "X = sample[\"job_title\"]\n",
    "Y = sample[\"industry\"]\n",
    "\n",
    "from sklearn.model_selection import train_test_split as tt\n",
    "X_train, X_test, Y_train, Y_test = tt(X, Y, test_size=0.2, random_state=100)"
   ]
  },
  {
   "cell_type": "code",
   "execution_count": 129,
   "metadata": {},
   "outputs": [
    {
     "data": {
      "text/html": [
       "<style>#sk-container-id-5 {color: black;background-color: white;}#sk-container-id-5 pre{padding: 0;}#sk-container-id-5 div.sk-toggleable {background-color: white;}#sk-container-id-5 label.sk-toggleable__label {cursor: pointer;display: block;width: 100%;margin-bottom: 0;padding: 0.3em;box-sizing: border-box;text-align: center;}#sk-container-id-5 label.sk-toggleable__label-arrow:before {content: \"▸\";float: left;margin-right: 0.25em;color: #696969;}#sk-container-id-5 label.sk-toggleable__label-arrow:hover:before {color: black;}#sk-container-id-5 div.sk-estimator:hover label.sk-toggleable__label-arrow:before {color: black;}#sk-container-id-5 div.sk-toggleable__content {max-height: 0;max-width: 0;overflow: hidden;text-align: left;background-color: #f0f8ff;}#sk-container-id-5 div.sk-toggleable__content pre {margin: 0.2em;color: black;border-radius: 0.25em;background-color: #f0f8ff;}#sk-container-id-5 input.sk-toggleable__control:checked~div.sk-toggleable__content {max-height: 200px;max-width: 100%;overflow: auto;}#sk-container-id-5 input.sk-toggleable__control:checked~label.sk-toggleable__label-arrow:before {content: \"▾\";}#sk-container-id-5 div.sk-estimator input.sk-toggleable__control:checked~label.sk-toggleable__label {background-color: #d4ebff;}#sk-container-id-5 div.sk-label input.sk-toggleable__control:checked~label.sk-toggleable__label {background-color: #d4ebff;}#sk-container-id-5 input.sk-hidden--visually {border: 0;clip: rect(1px 1px 1px 1px);clip: rect(1px, 1px, 1px, 1px);height: 1px;margin: -1px;overflow: hidden;padding: 0;position: absolute;width: 1px;}#sk-container-id-5 div.sk-estimator {font-family: monospace;background-color: #f0f8ff;border: 1px dotted black;border-radius: 0.25em;box-sizing: border-box;margin-bottom: 0.5em;}#sk-container-id-5 div.sk-estimator:hover {background-color: #d4ebff;}#sk-container-id-5 div.sk-parallel-item::after {content: \"\";width: 100%;border-bottom: 1px solid gray;flex-grow: 1;}#sk-container-id-5 div.sk-label:hover label.sk-toggleable__label {background-color: #d4ebff;}#sk-container-id-5 div.sk-serial::before {content: \"\";position: absolute;border-left: 1px solid gray;box-sizing: border-box;top: 0;bottom: 0;left: 50%;z-index: 0;}#sk-container-id-5 div.sk-serial {display: flex;flex-direction: column;align-items: center;background-color: white;padding-right: 0.2em;padding-left: 0.2em;position: relative;}#sk-container-id-5 div.sk-item {position: relative;z-index: 1;}#sk-container-id-5 div.sk-parallel {display: flex;align-items: stretch;justify-content: center;background-color: white;position: relative;}#sk-container-id-5 div.sk-item::before, #sk-container-id-5 div.sk-parallel-item::before {content: \"\";position: absolute;border-left: 1px solid gray;box-sizing: border-box;top: 0;bottom: 0;left: 50%;z-index: -1;}#sk-container-id-5 div.sk-parallel-item {display: flex;flex-direction: column;z-index: 1;position: relative;background-color: white;}#sk-container-id-5 div.sk-parallel-item:first-child::after {align-self: flex-end;width: 50%;}#sk-container-id-5 div.sk-parallel-item:last-child::after {align-self: flex-start;width: 50%;}#sk-container-id-5 div.sk-parallel-item:only-child::after {width: 0;}#sk-container-id-5 div.sk-dashed-wrapped {border: 1px dashed gray;margin: 0 0.4em 0.5em 0.4em;box-sizing: border-box;padding-bottom: 0.4em;background-color: white;}#sk-container-id-5 div.sk-label label {font-family: monospace;font-weight: bold;display: inline-block;line-height: 1.2em;}#sk-container-id-5 div.sk-label-container {text-align: center;}#sk-container-id-5 div.sk-container {/* jupyter's `normalize.less` sets `[hidden] { display: none; }` but bootstrap.min.css set `[hidden] { display: none !important; }` so we also need the `!important` here to be able to override the default hidden behavior on the sphinx rendered scikit-learn.org. See: https://github.com/scikit-learn/scikit-learn/issues/21755 */display: inline-block !important;position: relative;}#sk-container-id-5 div.sk-text-repr-fallback {display: none;}</style><div id=\"sk-container-id-5\" class=\"sk-top-container\"><div class=\"sk-text-repr-fallback\"><pre>CountVectorizer(stop_words=&#x27;english&#x27;)</pre><b>In a Jupyter environment, please rerun this cell to show the HTML representation or trust the notebook. <br />On GitHub, the HTML representation is unable to render, please try loading this page with nbviewer.org.</b></div><div class=\"sk-container\" hidden><div class=\"sk-item\"><div class=\"sk-estimator sk-toggleable\"><input class=\"sk-toggleable__control sk-hidden--visually\" id=\"sk-estimator-id-5\" type=\"checkbox\" checked><label for=\"sk-estimator-id-5\" class=\"sk-toggleable__label sk-toggleable__label-arrow\">CountVectorizer</label><div class=\"sk-toggleable__content\"><pre>CountVectorizer(stop_words=&#x27;english&#x27;)</pre></div></div></div></div></div>"
      ],
      "text/plain": [
       "CountVectorizer(stop_words='english')"
      ]
     },
     "execution_count": 129,
     "metadata": {},
     "output_type": "execute_result"
    }
   ],
   "source": [
    "vec = CountVectorizer(stop_words='english')\n",
    "vec.fit(X_train)"
   ]
  },
  {
   "cell_type": "code",
   "execution_count": 130,
   "metadata": {},
   "outputs": [],
   "source": [
    "X_train_transformed = vec.transform(X_train)\n",
    "X_test_transformed = vec.transform(X_test)"
   ]
  },
  {
   "cell_type": "code",
   "execution_count": 131,
   "metadata": {},
   "outputs": [
    {
     "data": {
      "text/html": [
       "<style>#sk-container-id-6 {color: black;background-color: white;}#sk-container-id-6 pre{padding: 0;}#sk-container-id-6 div.sk-toggleable {background-color: white;}#sk-container-id-6 label.sk-toggleable__label {cursor: pointer;display: block;width: 100%;margin-bottom: 0;padding: 0.3em;box-sizing: border-box;text-align: center;}#sk-container-id-6 label.sk-toggleable__label-arrow:before {content: \"▸\";float: left;margin-right: 0.25em;color: #696969;}#sk-container-id-6 label.sk-toggleable__label-arrow:hover:before {color: black;}#sk-container-id-6 div.sk-estimator:hover label.sk-toggleable__label-arrow:before {color: black;}#sk-container-id-6 div.sk-toggleable__content {max-height: 0;max-width: 0;overflow: hidden;text-align: left;background-color: #f0f8ff;}#sk-container-id-6 div.sk-toggleable__content pre {margin: 0.2em;color: black;border-radius: 0.25em;background-color: #f0f8ff;}#sk-container-id-6 input.sk-toggleable__control:checked~div.sk-toggleable__content {max-height: 200px;max-width: 100%;overflow: auto;}#sk-container-id-6 input.sk-toggleable__control:checked~label.sk-toggleable__label-arrow:before {content: \"▾\";}#sk-container-id-6 div.sk-estimator input.sk-toggleable__control:checked~label.sk-toggleable__label {background-color: #d4ebff;}#sk-container-id-6 div.sk-label input.sk-toggleable__control:checked~label.sk-toggleable__label {background-color: #d4ebff;}#sk-container-id-6 input.sk-hidden--visually {border: 0;clip: rect(1px 1px 1px 1px);clip: rect(1px, 1px, 1px, 1px);height: 1px;margin: -1px;overflow: hidden;padding: 0;position: absolute;width: 1px;}#sk-container-id-6 div.sk-estimator {font-family: monospace;background-color: #f0f8ff;border: 1px dotted black;border-radius: 0.25em;box-sizing: border-box;margin-bottom: 0.5em;}#sk-container-id-6 div.sk-estimator:hover {background-color: #d4ebff;}#sk-container-id-6 div.sk-parallel-item::after {content: \"\";width: 100%;border-bottom: 1px solid gray;flex-grow: 1;}#sk-container-id-6 div.sk-label:hover label.sk-toggleable__label {background-color: #d4ebff;}#sk-container-id-6 div.sk-serial::before {content: \"\";position: absolute;border-left: 1px solid gray;box-sizing: border-box;top: 0;bottom: 0;left: 50%;z-index: 0;}#sk-container-id-6 div.sk-serial {display: flex;flex-direction: column;align-items: center;background-color: white;padding-right: 0.2em;padding-left: 0.2em;position: relative;}#sk-container-id-6 div.sk-item {position: relative;z-index: 1;}#sk-container-id-6 div.sk-parallel {display: flex;align-items: stretch;justify-content: center;background-color: white;position: relative;}#sk-container-id-6 div.sk-item::before, #sk-container-id-6 div.sk-parallel-item::before {content: \"\";position: absolute;border-left: 1px solid gray;box-sizing: border-box;top: 0;bottom: 0;left: 50%;z-index: -1;}#sk-container-id-6 div.sk-parallel-item {display: flex;flex-direction: column;z-index: 1;position: relative;background-color: white;}#sk-container-id-6 div.sk-parallel-item:first-child::after {align-self: flex-end;width: 50%;}#sk-container-id-6 div.sk-parallel-item:last-child::after {align-self: flex-start;width: 50%;}#sk-container-id-6 div.sk-parallel-item:only-child::after {width: 0;}#sk-container-id-6 div.sk-dashed-wrapped {border: 1px dashed gray;margin: 0 0.4em 0.5em 0.4em;box-sizing: border-box;padding-bottom: 0.4em;background-color: white;}#sk-container-id-6 div.sk-label label {font-family: monospace;font-weight: bold;display: inline-block;line-height: 1.2em;}#sk-container-id-6 div.sk-label-container {text-align: center;}#sk-container-id-6 div.sk-container {/* jupyter's `normalize.less` sets `[hidden] { display: none; }` but bootstrap.min.css set `[hidden] { display: none !important; }` so we also need the `!important` here to be able to override the default hidden behavior on the sphinx rendered scikit-learn.org. See: https://github.com/scikit-learn/scikit-learn/issues/21755 */display: inline-block !important;position: relative;}#sk-container-id-6 div.sk-text-repr-fallback {display: none;}</style><div id=\"sk-container-id-6\" class=\"sk-top-container\"><div class=\"sk-text-repr-fallback\"><pre>MultinomialNB()</pre><b>In a Jupyter environment, please rerun this cell to show the HTML representation or trust the notebook. <br />On GitHub, the HTML representation is unable to render, please try loading this page with nbviewer.org.</b></div><div class=\"sk-container\" hidden><div class=\"sk-item\"><div class=\"sk-estimator sk-toggleable\"><input class=\"sk-toggleable__control sk-hidden--visually\" id=\"sk-estimator-id-6\" type=\"checkbox\" checked><label for=\"sk-estimator-id-6\" class=\"sk-toggleable__label sk-toggleable__label-arrow\">MultinomialNB</label><div class=\"sk-toggleable__content\"><pre>MultinomialNB()</pre></div></div></div></div></div>"
      ],
      "text/plain": [
       "MultinomialNB()"
      ]
     },
     "execution_count": 131,
     "metadata": {},
     "output_type": "execute_result"
    }
   ],
   "source": [
    "model = MultinomialNB()\n",
    "model.fit(X_train_transformed, Y_train)"
   ]
  },
  {
   "cell_type": "code",
   "execution_count": 132,
   "metadata": {},
   "outputs": [],
   "source": [
    "y_pred = model.predict(X_test_transformed)\n",
    "y_pred_prob = model.predict_proba(X_test_transformed)"
   ]
  },
  {
   "cell_type": "code",
   "execution_count": 133,
   "metadata": {},
   "outputs": [
    {
     "name": "stdout",
     "output_type": "stream",
     "text": [
      "                precision    recall  f1-score   support\n",
      "\n",
      "    Accounting       0.40      0.05      0.09        80\n",
      "   Advertising       0.50      0.05      0.09        97\n",
      "   Agriculture       1.00      0.00      0.00        10\n",
      "     Animation       1.00      0.00      0.00         2\n",
      "  Architecture       1.00      0.00      0.00        25\n",
      "    Automobile       0.53      0.09      0.16        96\n",
      "      Aviation       1.00      0.00      0.00         5\n",
      "           BPO       0.56      0.60      0.58       377\n",
      "       Banking       0.42      0.48      0.45       330\n",
      "      Ceramics       1.00      0.00      0.00         5\n",
      "     Chemicals       0.50      0.04      0.08        23\n",
      "  Construction       0.45      0.08      0.13       117\n",
      "      Consumer       1.00      0.00      0.00        30\n",
      "       Courier       1.00      0.00      0.00        33\n",
      "     Education       0.67      0.40      0.50       226\n",
      "   Electricals       1.00      0.00      0.00        22\n",
      "        Export       1.00      0.00      0.00         7\n",
      "          FMCG       0.00      0.00      0.00        60\n",
      "      Facility       1.00      0.00      0.00         8\n",
      "   Fertilizers       1.00      0.00      0.00         3\n",
      "          Food       1.00      0.00      0.00         7\n",
      "       Fresher       1.00      0.00      0.00         2\n",
      "          Gems       1.00      0.00      0.00         2\n",
      "    Government       1.00      0.00      0.00         1\n",
      "          Heat       1.00      0.00      0.00         5\n",
      "   IT Hardware       0.00      0.00      0.00        50\n",
      "   IT Software       0.55      0.91      0.68      2133\n",
      "    Industrial       0.00      0.00      0.00        93\n",
      "     Insurance       0.81      0.33      0.47        64\n",
      "      Internet       0.50      0.03      0.05       111\n",
      "          Iron       1.00      0.00      0.00         5\n",
      "           KPO       1.00      0.00      0.00        42\n",
      "         Legal       1.00      0.00      0.00         2\n",
      "         Media       0.40      0.02      0.04        95\n",
      "       Medical       0.64      0.36      0.46       123\n",
      "        Mining       1.00      0.00      0.00         1\n",
      "           NGO       1.00      0.00      0.00        13\n",
      "        Office       1.00      0.00      0.00        10\n",
      "           Oil       0.67      0.04      0.08        50\n",
      "         Other       1.00      0.00      0.00        40\n",
      "        Pharma       0.36      0.05      0.09        96\n",
      "      Printing       1.00      0.00      0.00        10\n",
      "    Publishing       1.00      0.00      0.00        15\n",
      "          Real       0.46      0.08      0.14        71\n",
      "   Recruitment       0.19      0.28      0.23       536\n",
      "        Retail       0.58      0.12      0.21        56\n",
      "      Security       1.00      0.00      0.00         7\n",
      "Semiconductors       0.00      0.00      0.00        33\n",
      "      Shipping       1.00      0.31      0.47        13\n",
      "      Strategy       1.00      0.00      0.00        94\n",
      "        Telcom       1.00      0.02      0.04        44\n",
      "       Telecom       1.00      0.00      0.00         4\n",
      "      Textiles       0.50      0.04      0.07        27\n",
      "        Travel       0.88      0.30      0.44        98\n",
      "         Tyres       1.00      0.00      0.00         1\n",
      "         Water       1.00      0.00      0.00        10\n",
      "      Wellness       1.00      0.00      0.00        11\n",
      "\n",
      "      accuracy                           0.49      5531\n",
      "     macro avg       0.76      0.08      0.10      5531\n",
      "  weighted avg       0.53      0.49      0.41      5531\n",
      "\n"
     ]
    }
   ],
   "source": [
    "print(mt.classification_report(Y_test, y_pred, zero_division=1))"
   ]
  },
  {
   "cell_type": "code",
   "execution_count": 134,
   "metadata": {},
   "outputs": [],
   "source": [
    "X_test_transformed = vec.transform(ds.Title)"
   ]
  },
  {
   "cell_type": "code",
   "execution_count": 135,
   "metadata": {},
   "outputs": [
    {
     "data": {
      "text/html": [
       "<div>\n",
       "<style scoped>\n",
       "    .dataframe tbody tr th:only-of-type {\n",
       "        vertical-align: middle;\n",
       "    }\n",
       "\n",
       "    .dataframe tbody tr th {\n",
       "        vertical-align: top;\n",
       "    }\n",
       "\n",
       "    .dataframe thead th {\n",
       "        text-align: right;\n",
       "    }\n",
       "</style>\n",
       "<table border=\"1\" class=\"dataframe\">\n",
       "  <thead>\n",
       "    <tr style=\"text-align: right;\">\n",
       "      <th></th>\n",
       "      <th>Title</th>\n",
       "      <th>Company</th>\n",
       "      <th>Location</th>\n",
       "      <th>Type</th>\n",
       "      <th>Link</th>\n",
       "    </tr>\n",
       "  </thead>\n",
       "  <tbody>\n",
       "    <tr>\n",
       "      <th>0</th>\n",
       "      <td>Teaching Faculty</td>\n",
       "      <td>SONAM TUITIONS</td>\n",
       "      <td>Kalyan, Maharashtra</td>\n",
       "      <td>Flexible shift</td>\n",
       "      <td>https://in.indeed.com/pagead/clk?mo=r&amp;ad=-6NYl...</td>\n",
       "    </tr>\n",
       "    <tr>\n",
       "      <th>1</th>\n",
       "      <td>Norwegian content writer required</td>\n",
       "      <td>Great Ponton</td>\n",
       "      <td>Mumbai, Maharashtra</td>\n",
       "      <td>Day shift</td>\n",
       "      <td>https://in.indeed.com/pagead/clk?mo=r&amp;ad=-6NYl...</td>\n",
       "    </tr>\n",
       "    <tr>\n",
       "      <th>2</th>\n",
       "      <td>MBA (Marketing)</td>\n",
       "      <td>Astrotel Pvt Ltd</td>\n",
       "      <td>Kanpur, Uttar Pradesh</td>\n",
       "      <td>Full-time</td>\n",
       "      <td>https://in.indeed.com/pagead/clk?mo=r&amp;ad=-6NYl...</td>\n",
       "    </tr>\n",
       "    <tr>\n",
       "      <th>3</th>\n",
       "      <td>Visa counsellor</td>\n",
       "      <td>VISA SPOT</td>\n",
       "      <td>Mohali, Punjab</td>\n",
       "      <td>Full-time</td>\n",
       "      <td>https://in.indeed.com/pagead/clk?mo=r&amp;ad=-6NYl...</td>\n",
       "    </tr>\n",
       "    <tr>\n",
       "      <th>4</th>\n",
       "      <td>Scrum Master 4</td>\n",
       "      <td>Comcast</td>\n",
       "      <td>Chennai, Tamil Nadu</td>\n",
       "      <td>Weekend availability</td>\n",
       "      <td>https://in.indeed.com/pagead/clk?mo=r&amp;ad=-6NYl...</td>\n",
       "    </tr>\n",
       "    <tr>\n",
       "      <th>...</th>\n",
       "      <td>...</td>\n",
       "      <td>...</td>\n",
       "      <td>...</td>\n",
       "      <td>...</td>\n",
       "      <td>...</td>\n",
       "    </tr>\n",
       "    <tr>\n",
       "      <th>3952</th>\n",
       "      <td>EY - Director - Cyber Security - Government Ad...</td>\n",
       "      <td>EY India</td>\n",
       "      <td>Delhi</td>\n",
       "      <td>Regular</td>\n",
       "      <td>https://www.shine.com/jobs/ey-director-cyber-s...</td>\n",
       "    </tr>\n",
       "    <tr>\n",
       "      <th>3953</th>\n",
       "      <td>SafexPay - Head - Technology</td>\n",
       "      <td>Paygate India Private Limited</td>\n",
       "      <td>Mumbai City</td>\n",
       "      <td>Regular</td>\n",
       "      <td>https://www.shine.com/jobs/safexpay-head-techn...</td>\n",
       "    </tr>\n",
       "    <tr>\n",
       "      <th>3954</th>\n",
       "      <td>Process Developer - Accounts Payable</td>\n",
       "      <td>Genpact India Pvt. Ltd.</td>\n",
       "      <td>Kolkata</td>\n",
       "      <td>Regular</td>\n",
       "      <td>https://www.shine.com/jobs/process-developer-a...</td>\n",
       "    </tr>\n",
       "    <tr>\n",
       "      <th>3955</th>\n",
       "      <td>Continuum Green Energy - Company Secretary</td>\n",
       "      <td>Continuum Green Energy (India) Pvt ...</td>\n",
       "      <td>Mumbai City</td>\n",
       "      <td>Regular</td>\n",
       "      <td>https://www.shine.com/jobs/continuum-green-ene...</td>\n",
       "    </tr>\n",
       "    <tr>\n",
       "      <th>3956</th>\n",
       "      <td>Senior Consultant - SAP TRM - Government Advisory</td>\n",
       "      <td>EY India</td>\n",
       "      <td>Delhi</td>\n",
       "      <td>Regular</td>\n",
       "      <td>https://www.shine.com/jobs/senior-consultant-s...</td>\n",
       "    </tr>\n",
       "  </tbody>\n",
       "</table>\n",
       "<p>3957 rows × 5 columns</p>\n",
       "</div>"
      ],
      "text/plain": [
       "                                                  Title  \\\n",
       "0                                      Teaching Faculty   \n",
       "1                     Norwegian content writer required   \n",
       "2                                       MBA (Marketing)   \n",
       "3                                       Visa counsellor   \n",
       "4                                        Scrum Master 4   \n",
       "...                                                 ...   \n",
       "3952  EY - Director - Cyber Security - Government Ad...   \n",
       "3953                       SafexPay - Head - Technology   \n",
       "3954               Process Developer - Accounts Payable   \n",
       "3955         Continuum Green Energy - Company Secretary   \n",
       "3956  Senior Consultant - SAP TRM - Government Advisory   \n",
       "\n",
       "                                     Company               Location  \\\n",
       "0                             SONAM TUITIONS    Kalyan, Maharashtra   \n",
       "1                               Great Ponton    Mumbai, Maharashtra   \n",
       "2                           Astrotel Pvt Ltd  Kanpur, Uttar Pradesh   \n",
       "3                                  VISA SPOT         Mohali, Punjab   \n",
       "4                                    Comcast    Chennai, Tamil Nadu   \n",
       "...                                      ...                    ...   \n",
       "3952                                EY India                  Delhi   \n",
       "3953           Paygate India Private Limited            Mumbai City   \n",
       "3954                 Genpact India Pvt. Ltd.                Kolkata   \n",
       "3955  Continuum Green Energy (India) Pvt ...            Mumbai City   \n",
       "3956                                EY India                  Delhi   \n",
       "\n",
       "                      Type                                               Link  \n",
       "0           Flexible shift  https://in.indeed.com/pagead/clk?mo=r&ad=-6NYl...  \n",
       "1                Day shift  https://in.indeed.com/pagead/clk?mo=r&ad=-6NYl...  \n",
       "2                Full-time  https://in.indeed.com/pagead/clk?mo=r&ad=-6NYl...  \n",
       "3                Full-time  https://in.indeed.com/pagead/clk?mo=r&ad=-6NYl...  \n",
       "4     Weekend availability  https://in.indeed.com/pagead/clk?mo=r&ad=-6NYl...  \n",
       "...                    ...                                                ...  \n",
       "3952               Regular  https://www.shine.com/jobs/ey-director-cyber-s...  \n",
       "3953               Regular  https://www.shine.com/jobs/safexpay-head-techn...  \n",
       "3954               Regular  https://www.shine.com/jobs/process-developer-a...  \n",
       "3955               Regular  https://www.shine.com/jobs/continuum-green-ene...  \n",
       "3956               Regular  https://www.shine.com/jobs/senior-consultant-s...  \n",
       "\n",
       "[3957 rows x 5 columns]"
      ]
     },
     "execution_count": 135,
     "metadata": {},
     "output_type": "execute_result"
    }
   ],
   "source": [
    "ds"
   ]
  },
  {
   "cell_type": "code",
   "execution_count": 136,
   "metadata": {},
   "outputs": [
    {
     "data": {
      "text/html": [
       "<div>\n",
       "<style scoped>\n",
       "    .dataframe tbody tr th:only-of-type {\n",
       "        vertical-align: middle;\n",
       "    }\n",
       "\n",
       "    .dataframe tbody tr th {\n",
       "        vertical-align: top;\n",
       "    }\n",
       "\n",
       "    .dataframe thead th {\n",
       "        text-align: right;\n",
       "    }\n",
       "</style>\n",
       "<table border=\"1\" class=\"dataframe\">\n",
       "  <thead>\n",
       "    <tr style=\"text-align: right;\">\n",
       "      <th></th>\n",
       "      <th>Title</th>\n",
       "      <th>Company</th>\n",
       "      <th>Location</th>\n",
       "      <th>Type</th>\n",
       "      <th>Link</th>\n",
       "      <th>role</th>\n",
       "    </tr>\n",
       "  </thead>\n",
       "  <tbody>\n",
       "    <tr>\n",
       "      <th>0</th>\n",
       "      <td>Teaching Faculty</td>\n",
       "      <td>SONAM TUITIONS</td>\n",
       "      <td>Kalyan, Maharashtra</td>\n",
       "      <td>Flexible shift</td>\n",
       "      <td>https://in.indeed.com/pagead/clk?mo=r&amp;ad=-6NYl...</td>\n",
       "      <td>Education</td>\n",
       "    </tr>\n",
       "    <tr>\n",
       "      <th>1</th>\n",
       "      <td>Norwegian content writer required</td>\n",
       "      <td>Great Ponton</td>\n",
       "      <td>Mumbai, Maharashtra</td>\n",
       "      <td>Day shift</td>\n",
       "      <td>https://in.indeed.com/pagead/clk?mo=r&amp;ad=-6NYl...</td>\n",
       "      <td>IT Software</td>\n",
       "    </tr>\n",
       "    <tr>\n",
       "      <th>2</th>\n",
       "      <td>MBA (Marketing)</td>\n",
       "      <td>Astrotel Pvt Ltd</td>\n",
       "      <td>Kanpur, Uttar Pradesh</td>\n",
       "      <td>Full-time</td>\n",
       "      <td>https://in.indeed.com/pagead/clk?mo=r&amp;ad=-6NYl...</td>\n",
       "      <td>IT Software</td>\n",
       "    </tr>\n",
       "    <tr>\n",
       "      <th>3</th>\n",
       "      <td>Visa counsellor</td>\n",
       "      <td>VISA SPOT</td>\n",
       "      <td>Mohali, Punjab</td>\n",
       "      <td>Full-time</td>\n",
       "      <td>https://in.indeed.com/pagead/clk?mo=r&amp;ad=-6NYl...</td>\n",
       "      <td>Education</td>\n",
       "    </tr>\n",
       "    <tr>\n",
       "      <th>4</th>\n",
       "      <td>Scrum Master 4</td>\n",
       "      <td>Comcast</td>\n",
       "      <td>Chennai, Tamil Nadu</td>\n",
       "      <td>Weekend availability</td>\n",
       "      <td>https://in.indeed.com/pagead/clk?mo=r&amp;ad=-6NYl...</td>\n",
       "      <td>IT Software</td>\n",
       "    </tr>\n",
       "    <tr>\n",
       "      <th>...</th>\n",
       "      <td>...</td>\n",
       "      <td>...</td>\n",
       "      <td>...</td>\n",
       "      <td>...</td>\n",
       "      <td>...</td>\n",
       "      <td>...</td>\n",
       "    </tr>\n",
       "    <tr>\n",
       "      <th>3952</th>\n",
       "      <td>EY - Director - Cyber Security - Government Ad...</td>\n",
       "      <td>EY India</td>\n",
       "      <td>Delhi</td>\n",
       "      <td>Regular</td>\n",
       "      <td>https://www.shine.com/jobs/ey-director-cyber-s...</td>\n",
       "      <td>Banking</td>\n",
       "    </tr>\n",
       "    <tr>\n",
       "      <th>3953</th>\n",
       "      <td>SafexPay - Head - Technology</td>\n",
       "      <td>Paygate India Private Limited</td>\n",
       "      <td>Mumbai City</td>\n",
       "      <td>Regular</td>\n",
       "      <td>https://www.shine.com/jobs/safexpay-head-techn...</td>\n",
       "      <td>IT Software</td>\n",
       "    </tr>\n",
       "    <tr>\n",
       "      <th>3954</th>\n",
       "      <td>Process Developer - Accounts Payable</td>\n",
       "      <td>Genpact India Pvt. Ltd.</td>\n",
       "      <td>Kolkata</td>\n",
       "      <td>Regular</td>\n",
       "      <td>https://www.shine.com/jobs/process-developer-a...</td>\n",
       "      <td>IT Software</td>\n",
       "    </tr>\n",
       "    <tr>\n",
       "      <th>3955</th>\n",
       "      <td>Continuum Green Energy - Company Secretary</td>\n",
       "      <td>Continuum Green Energy (India) Pvt ...</td>\n",
       "      <td>Mumbai City</td>\n",
       "      <td>Regular</td>\n",
       "      <td>https://www.shine.com/jobs/continuum-green-ene...</td>\n",
       "      <td>Recruitment</td>\n",
       "    </tr>\n",
       "    <tr>\n",
       "      <th>3956</th>\n",
       "      <td>Senior Consultant - SAP TRM - Government Advisory</td>\n",
       "      <td>EY India</td>\n",
       "      <td>Delhi</td>\n",
       "      <td>Regular</td>\n",
       "      <td>https://www.shine.com/jobs/senior-consultant-s...</td>\n",
       "      <td>IT Software</td>\n",
       "    </tr>\n",
       "  </tbody>\n",
       "</table>\n",
       "<p>3957 rows × 6 columns</p>\n",
       "</div>"
      ],
      "text/plain": [
       "                                                  Title  \\\n",
       "0                                      Teaching Faculty   \n",
       "1                     Norwegian content writer required   \n",
       "2                                       MBA (Marketing)   \n",
       "3                                       Visa counsellor   \n",
       "4                                        Scrum Master 4   \n",
       "...                                                 ...   \n",
       "3952  EY - Director - Cyber Security - Government Ad...   \n",
       "3953                       SafexPay - Head - Technology   \n",
       "3954               Process Developer - Accounts Payable   \n",
       "3955         Continuum Green Energy - Company Secretary   \n",
       "3956  Senior Consultant - SAP TRM - Government Advisory   \n",
       "\n",
       "                                     Company               Location  \\\n",
       "0                             SONAM TUITIONS    Kalyan, Maharashtra   \n",
       "1                               Great Ponton    Mumbai, Maharashtra   \n",
       "2                           Astrotel Pvt Ltd  Kanpur, Uttar Pradesh   \n",
       "3                                  VISA SPOT         Mohali, Punjab   \n",
       "4                                    Comcast    Chennai, Tamil Nadu   \n",
       "...                                      ...                    ...   \n",
       "3952                                EY India                  Delhi   \n",
       "3953           Paygate India Private Limited            Mumbai City   \n",
       "3954                 Genpact India Pvt. Ltd.                Kolkata   \n",
       "3955  Continuum Green Energy (India) Pvt ...            Mumbai City   \n",
       "3956                                EY India                  Delhi   \n",
       "\n",
       "                      Type                                               Link  \\\n",
       "0           Flexible shift  https://in.indeed.com/pagead/clk?mo=r&ad=-6NYl...   \n",
       "1                Day shift  https://in.indeed.com/pagead/clk?mo=r&ad=-6NYl...   \n",
       "2                Full-time  https://in.indeed.com/pagead/clk?mo=r&ad=-6NYl...   \n",
       "3                Full-time  https://in.indeed.com/pagead/clk?mo=r&ad=-6NYl...   \n",
       "4     Weekend availability  https://in.indeed.com/pagead/clk?mo=r&ad=-6NYl...   \n",
       "...                    ...                                                ...   \n",
       "3952               Regular  https://www.shine.com/jobs/ey-director-cyber-s...   \n",
       "3953               Regular  https://www.shine.com/jobs/safexpay-head-techn...   \n",
       "3954               Regular  https://www.shine.com/jobs/process-developer-a...   \n",
       "3955               Regular  https://www.shine.com/jobs/continuum-green-ene...   \n",
       "3956               Regular  https://www.shine.com/jobs/senior-consultant-s...   \n",
       "\n",
       "             role  \n",
       "0       Education  \n",
       "1     IT Software  \n",
       "2     IT Software  \n",
       "3       Education  \n",
       "4     IT Software  \n",
       "...           ...  \n",
       "3952      Banking  \n",
       "3953  IT Software  \n",
       "3954  IT Software  \n",
       "3955  Recruitment  \n",
       "3956  IT Software  \n",
       "\n",
       "[3957 rows x 6 columns]"
      ]
     },
     "execution_count": 136,
     "metadata": {},
     "output_type": "execute_result"
    }
   ],
   "source": [
    "roles = model.predict(X_test_transformed)\n",
    "\n",
    "ds[\"role\"] = roles \n",
    "\n",
    "ds"
   ]
  },
  {
   "cell_type": "code",
   "execution_count": 137,
   "metadata": {},
   "outputs": [],
   "source": [
    "from wordcloud import WordCloud, STOPWORDS, ImageColorGenerator\n",
    "import matplotlib.pyplot as plt"
   ]
  },
  {
   "cell_type": "code",
   "execution_count": 138,
   "metadata": {},
   "outputs": [
    {
     "data": {
      "text/plain": [
       "(-0.5, 399.5, 199.5, -0.5)"
      ]
     },
     "execution_count": 138,
     "metadata": {},
     "output_type": "execute_result"
    },
    {
     "data": {
      "image/png": "[encoded data removed]",
      "text/plain": [
       "<Figure size 432x288 with 1 Axes>"
      ]
     },
     "metadata": {
      "needs_background": "light"
     },
     "output_type": "display_data"
    }
   ],
   "source": [
    "titlecontents = \" \".join(ds['Title'].tolist())\n",
    "\n",
    "wordcloud = WordCloud().generate(titlecontents) \n",
    "plt.imshow(wordcloud, interpolation='bilinear')\n",
    "plt.axis('off')"
   ]
  },
  {
   "cell_type": "code",
   "execution_count": 139,
   "metadata": {},
   "outputs": [],
   "source": [
    "from sklearn.feature_extraction.text import TfidfVectorizer\n",
    "from sklearn.metrics.pairwise import cosine_similarity"
   ]
  },
  {
   "cell_type": "code",
   "execution_count": 140,
   "metadata": {},
   "outputs": [],
   "source": [
    "ds['combined'] = ds['Title'] + ' ' + ds['role'] + ' ' + ds['Location']"
   ]
  },
  {
   "cell_type": "code",
   "execution_count": 141,
   "metadata": {},
   "outputs": [],
   "source": [
    "tfIdfVectorizer=TfidfVectorizer(use_idf=True)\n",
    "tfIdf = tfIdfVectorizer.fit_transform(ds['combined'].tolist())"
   ]
  },
  {
   "cell_type": "code",
   "execution_count": 142,
   "metadata": {},
   "outputs": [
    {
     "name": "stdout",
     "output_type": "stream",
     "text": [
      "[[1.         0.06035032 0.         ... 0.         0.         0.        ]\n",
      " [0.06035032 1.         0.03095397 ... 0.03788516 0.04313678 0.02529338]\n",
      " [0.         0.03095397 1.         ... 0.03911355 0.         0.02611349]\n",
      " ...\n",
      " [0.         0.03788516 0.03911355 ... 1.         0.         0.03196081]\n",
      " [0.         0.04313678 0.         ... 0.         1.         0.        ]\n",
      " [0.         0.02529338 0.02611349 ... 0.03196081 0.         1.        ]]\n"
     ]
    }
   ],
   "source": [
    "docsimilarity = cosine_similarity(tfIdf)\n",
    "\n",
    "print(docsimilarity)"
   ]
  },
  {
   "cell_type": "code",
   "execution_count": 143,
   "metadata": {},
   "outputs": [],
   "source": [
    "#sample user\n",
    "\n",
    "inputs = {\n",
    "    'Title': ['Data Scientist', 'Software Engineer', 'Machine Learning'],\n",
    "    'Location': 'Chennai'\n",
    "}\n",
    "\n",
    "usertitle = \" \".join(inputs['Title'])\n",
    "\n",
    "urole = []\n",
    "for i in inputs['Title']:\n",
    "    utitle = vec.transform([i])\n",
    "    urole.append(\"\".join(model.predict(utitle).tolist()))\n",
    "\n",
    "urole = list(set(urole))\n",
    "\n",
    "userrole = \" \".join(urole)\n",
    "\n",
    "user = usertitle + ' ' + inputs['Location'] + ' ' + userrole"
   ]
  },
  {
   "cell_type": "code",
   "execution_count": 144,
   "metadata": {},
   "outputs": [],
   "source": [
    "input_vector = tfIdfVectorizer.transform([user])\n",
    "cosine_similarities = cosine_similarity(input_vector, tfIdf).flatten()"
   ]
  },
  {
   "cell_type": "code",
   "execution_count": 145,
   "metadata": {},
   "outputs": [],
   "source": [
    "def jaccard(a, b):\n",
    "    intersection = a.intersection(b)\n",
    "    union = a.union(b)\n",
    "\n",
    "    return len(intersection)/len(union)"
   ]
  },
  {
   "cell_type": "code",
   "execution_count": 146,
   "metadata": {},
   "outputs": [],
   "source": [
    "jaccard_sim = []\n",
    "for doc in ds['combined'].tolist():\n",
    "    jaccard_sim.append(jaccard(set(doc.lower().split()), set(user.lower().split())))\n",
    "\n",
    "similarities = cosine_similarities + jaccard_sim"
   ]
  },
  {
   "cell_type": "code",
   "execution_count": 147,
   "metadata": {},
   "outputs": [],
   "source": [
    "most_similar_indices = similarities.argsort()[::-1]"
   ]
  },
  {
   "attachments": {},
   "cell_type": "markdown",
   "metadata": {},
   "source": [
    "Most Similar Job Postings to the user's posting"
   ]
  },
  {
   "cell_type": "code",
   "execution_count": 148,
   "metadata": {},
   "outputs": [
    {
     "name": "stdout",
     "output_type": "stream",
     "text": [
      "Title: 'Data Annotator (Machine Learning)' 'Spritle Software' 'Chennai, Tamil Nadu' \t Score: 0.6733474984720419\n",
      "Title: 'Data Scientist' 'Volvo Group' 'Bengaluru, Karnataka, India' \t Score: 0.4971602415751697\n",
      "Title: 'Principal Data Scientist' 'Recruise India Consulting Pvt Ltd' 'Bangalore' \t Score: 0.45713137827612915\n",
      "Title: 'Senior Software Engineer' 'OEC INDIA SERVICES PRIVATE LIMITED' 'Chennai' \t Score: 0.36526522431689257\n",
      "Title: 'Data Engineer' 'UBS Securities India Private Limite...' 'Pune' \t Score: 0.35427423565786864\n",
      "Title: 'Data Scientist (Remote)' 'CES' 'Hyderabad, Telangana, India' \t Score: 0.4604393241790892\n"
     ]
    }
   ],
   "source": [
    "idx = 0\n",
    "average_before_hybrid = 0\n",
    "for index in most_similar_indices:\n",
    "    idx+=1\n",
    "    print(\"Title: '{}' '{}' '{}' \\t Score: {}\".format(ds.loc[index, 'Title'], ds.loc[index, 'Company'], ds.loc[index, 'Location'], cosine_similarities[index]))\n",
    "    average_before_hybrid += cosine_similarities[index]\n",
    "    if idx > 5:\n",
    "        break"
   ]
  },
  {
   "cell_type": "code",
   "execution_count": 149,
   "metadata": {},
   "outputs": [
    {
     "data": {
      "text/plain": [
       "0.46793631707953187"
      ]
     },
     "execution_count": 149,
     "metadata": {},
     "output_type": "execute_result"
    }
   ],
   "source": [
    "average_before_hybrid /= 6\n",
    "average_before_hybrid"
   ]
  },
  {
   "cell_type": "code",
   "execution_count": 150,
   "metadata": {},
   "outputs": [
    {
     "data": {
      "text/html": [
       "<div>\n",
       "<style scoped>\n",
       "    .dataframe tbody tr th:only-of-type {\n",
       "        vertical-align: middle;\n",
       "    }\n",
       "\n",
       "    .dataframe tbody tr th {\n",
       "        vertical-align: top;\n",
       "    }\n",
       "\n",
       "    .dataframe thead th {\n",
       "        text-align: right;\n",
       "    }\n",
       "</style>\n",
       "<table border=\"1\" class=\"dataframe\">\n",
       "  <thead>\n",
       "    <tr style=\"text-align: right;\">\n",
       "      <th></th>\n",
       "      <th>UID</th>\n",
       "      <th>Title</th>\n",
       "      <th>Location</th>\n",
       "    </tr>\n",
       "  </thead>\n",
       "  <tbody>\n",
       "    <tr>\n",
       "      <th>0</th>\n",
       "      <td>1</td>\n",
       "      <td>Data Scientist</td>\n",
       "      <td>Chennai</td>\n",
       "    </tr>\n",
       "    <tr>\n",
       "      <th>1</th>\n",
       "      <td>2</td>\n",
       "      <td>Web Development</td>\n",
       "      <td>Delhi</td>\n",
       "    </tr>\n",
       "    <tr>\n",
       "      <th>2</th>\n",
       "      <td>3</td>\n",
       "      <td>Software Engineer</td>\n",
       "      <td>NaN</td>\n",
       "    </tr>\n",
       "    <tr>\n",
       "      <th>3</th>\n",
       "      <td>4</td>\n",
       "      <td>Javascript Developer</td>\n",
       "      <td>Chennai</td>\n",
       "    </tr>\n",
       "    <tr>\n",
       "      <th>4</th>\n",
       "      <td>5</td>\n",
       "      <td>Data Analyst</td>\n",
       "      <td>Chennai</td>\n",
       "    </tr>\n",
       "  </tbody>\n",
       "</table>\n",
       "</div>"
      ],
      "text/plain": [
       "   UID                 Title Location\n",
       "0    1        Data Scientist  Chennai\n",
       "1    2       Web Development    Delhi\n",
       "2    3     Software Engineer      NaN\n",
       "3    4  Javascript Developer  Chennai\n",
       "4    5          Data Analyst  Chennai"
      ]
     },
     "execution_count": 150,
     "metadata": {},
     "output_type": "execute_result"
    }
   ],
   "source": [
    "users = pd.read_csv(\"users.csv\")\n",
    "\n",
    "users.head()"
   ]
  },
  {
   "cell_type": "code",
   "execution_count": 151,
   "metadata": {},
   "outputs": [
    {
     "data": {
      "text/html": [
       "<div>\n",
       "<style scoped>\n",
       "    .dataframe tbody tr th:only-of-type {\n",
       "        vertical-align: middle;\n",
       "    }\n",
       "\n",
       "    .dataframe tbody tr th {\n",
       "        vertical-align: top;\n",
       "    }\n",
       "\n",
       "    .dataframe thead th {\n",
       "        text-align: right;\n",
       "    }\n",
       "</style>\n",
       "<table border=\"1\" class=\"dataframe\">\n",
       "  <thead>\n",
       "    <tr style=\"text-align: right;\">\n",
       "      <th></th>\n",
       "      <th>UID</th>\n",
       "      <th>Title</th>\n",
       "      <th>Location</th>\n",
       "    </tr>\n",
       "  </thead>\n",
       "  <tbody>\n",
       "    <tr>\n",
       "      <th>0</th>\n",
       "      <td>1</td>\n",
       "      <td>Data Scientist</td>\n",
       "      <td>Chennai</td>\n",
       "    </tr>\n",
       "    <tr>\n",
       "      <th>1</th>\n",
       "      <td>2</td>\n",
       "      <td>Web Development</td>\n",
       "      <td>Delhi</td>\n",
       "    </tr>\n",
       "    <tr>\n",
       "      <th>2</th>\n",
       "      <td>3</td>\n",
       "      <td>Software Engineer</td>\n",
       "      <td></td>\n",
       "    </tr>\n",
       "    <tr>\n",
       "      <th>3</th>\n",
       "      <td>4</td>\n",
       "      <td>Javascript Developer</td>\n",
       "      <td>Chennai</td>\n",
       "    </tr>\n",
       "    <tr>\n",
       "      <th>4</th>\n",
       "      <td>5</td>\n",
       "      <td>Data Analyst</td>\n",
       "      <td>Chennai</td>\n",
       "    </tr>\n",
       "  </tbody>\n",
       "</table>\n",
       "</div>"
      ],
      "text/plain": [
       "   UID                 Title Location\n",
       "0    1        Data Scientist  Chennai\n",
       "1    2       Web Development    Delhi\n",
       "2    3     Software Engineer         \n",
       "3    4  Javascript Developer  Chennai\n",
       "4    5          Data Analyst  Chennai"
      ]
     },
     "execution_count": 151,
     "metadata": {},
     "output_type": "execute_result"
    }
   ],
   "source": [
    "users = users.replace(np.nan, \"\")\n",
    "users.head()"
   ]
  },
  {
   "cell_type": "code",
   "execution_count": 152,
   "metadata": {},
   "outputs": [],
   "source": [
    "users['combined'] = users['Title'] + ' ' + users['Location']\n",
    "tfIdfVectorizer=TfidfVectorizer(use_idf=True)\n",
    "tfIdf_user = tfIdfVectorizer.fit_transform(users['combined'].tolist())"
   ]
  },
  {
   "cell_type": "code",
   "execution_count": 153,
   "metadata": {},
   "outputs": [
    {
     "name": "stdout",
     "output_type": "stream",
     "text": [
      "[[1.         0.         0.         0.20164876 0.51481477 0.\n",
      "  0.         0.         0.         0.20164876 0.         0.\n",
      "  0.         0.         0.         0.27642067 0.24331544 0.18626369\n",
      "  0.         0.         0.         0.         0.         0.        ]\n",
      " [0.         1.         0.         0.         0.         0.\n",
      "  0.22477404 0.         0.24226158 0.         0.         0.\n",
      "  0.         0.         0.         0.         0.         0.\n",
      "  0.25520171 0.42918784 0.         0.         0.         0.        ]\n",
      " [0.         0.         1.         0.         0.         0.\n",
      "  0.         0.         0.         0.37614352 0.         0.\n",
      "  0.         0.         0.         0.         0.         0.\n",
      "  0.85020722 0.         0.         0.         0.         0.        ]\n",
      " [0.20164876 0.         0.         1.         0.20164876 0.\n",
      "  0.         0.         0.30358432 0.20164876 0.         0.\n",
      "  0.         0.         0.         0.         0.24331544 0.18626369\n",
      "  0.         0.37614352 0.         0.         0.         0.        ]\n",
      " [0.51481477 0.         0.         0.20164876 1.         0.\n",
      "  0.         0.         0.         0.20164876 0.         0.\n",
      "  0.         0.         0.         0.27642067 0.24331544 0.18626369\n",
      "  0.         0.         0.         0.         0.         0.        ]\n",
      " [0.         0.         0.         0.         0.         1.\n",
      "  0.         0.         0.         0.         0.27584393 0.\n",
      "  0.         0.         0.         0.         0.         0.\n",
      "  0.         0.         0.         0.27584393 0.         0.27584393]\n",
      " [0.         0.22477404 0.         0.         0.         0.\n",
      "  1.         0.         0.23172601 0.         0.         0.\n",
      "  0.         0.         0.         0.         0.         0.\n",
      "  0.2441034  0.         0.         0.         0.         0.        ]\n",
      " [0.         0.         0.         0.         0.         0.\n",
      "  0.         1.         0.         0.         0.         0.\n",
      "  0.         0.         0.         0.         0.         0.\n",
      "  0.         0.         0.         0.         0.         0.        ]\n",
      " [0.         0.24226158 0.         0.30358432 0.         0.\n",
      "  0.23172601 0.         1.         0.         0.         0.\n",
      "  0.         0.         0.         0.         0.         0.\n",
      "  0.26309477 0.36463497 0.         0.         0.         0.        ]\n",
      " [0.20164876 0.         0.37614352 0.20164876 0.20164876 0.\n",
      "  0.         0.         0.         1.         0.         0.\n",
      "  0.         0.         0.         0.         0.24331544 0.18626369\n",
      "  0.31979994 0.         0.         0.         0.         0.        ]\n",
      " [0.         0.         0.         0.         0.         0.27584393\n",
      "  0.         0.         0.         0.         1.         0.\n",
      "  0.         0.         0.         0.         0.         0.\n",
      "  0.         0.         0.         0.21499898 0.         0.21499898]\n",
      " [0.         0.         0.         0.         0.         0.\n",
      "  0.         0.         0.         0.         0.         1.\n",
      "  0.         0.         0.         0.         0.         0.\n",
      "  0.         0.         0.         0.         0.         0.        ]\n",
      " [0.         0.         0.         0.         0.         0.\n",
      "  0.         0.         0.         0.         0.         0.\n",
      "  1.         0.         0.         0.         0.         0.\n",
      "  0.         0.         0.         0.         0.         0.        ]\n",
      " [0.         0.         0.         0.         0.         0.\n",
      "  0.         0.         0.         0.         0.         0.\n",
      "  0.         1.         0.         0.         0.         0.\n",
      "  0.         0.         0.43921727 0.         0.         0.        ]\n",
      " [0.         0.         0.         0.         0.         0.\n",
      "  0.         0.         0.         0.         0.         0.\n",
      "  0.         0.         1.         0.         0.         0.\n",
      "  0.         0.         0.         0.         0.         0.        ]\n",
      " [0.27642067 0.         0.         0.         0.27642067 0.\n",
      "  0.         0.         0.         0.         0.         0.\n",
      "  0.         0.         0.         1.         0.         0.\n",
      "  0.         0.         0.         0.         0.         0.        ]\n",
      " [0.24331544 0.         0.         0.24331544 0.24331544 0.\n",
      "  0.         0.         0.         0.24331544 0.         0.\n",
      "  0.         0.         0.         0.         1.         0.22475135\n",
      "  0.         0.         0.         0.         0.         0.        ]\n",
      " [0.18626369 0.         0.         0.18626369 0.18626369 0.\n",
      "  0.         0.         0.         0.18626369 0.         0.\n",
      "  0.         0.         0.         0.         0.22475135 1.\n",
      "  0.         0.         0.         0.         0.         0.        ]\n",
      " [0.         0.25520171 0.85020722 0.         0.         0.\n",
      "  0.2441034  0.         0.26309477 0.31979994 0.         0.\n",
      "  0.         0.         0.         0.         0.         0.\n",
      "  1.         0.         0.         0.         0.         0.        ]\n",
      " [0.         0.42918784 0.         0.37614352 0.         0.\n",
      "  0.         0.         0.36463497 0.         0.         0.\n",
      "  0.         0.         0.         0.         0.         0.\n",
      "  0.         1.         0.         0.         0.         0.        ]\n",
      " [0.         0.         0.         0.         0.         0.\n",
      "  0.         0.         0.         0.         0.         0.\n",
      "  0.         0.43921727 0.         0.         0.         0.\n",
      "  0.         0.         1.         0.         0.         0.        ]\n",
      " [0.         0.         0.         0.         0.         0.27584393\n",
      "  0.         0.         0.         0.         0.21499898 0.\n",
      "  0.         0.         0.         0.         0.         0.\n",
      "  0.         0.         0.         1.         0.         0.21499898]\n",
      " [0.         0.         0.         0.         0.         0.\n",
      "  0.         0.         0.         0.         0.         0.\n",
      "  0.         0.         0.         0.         0.         0.\n",
      "  0.         0.         0.         0.         1.         0.        ]\n",
      " [0.         0.         0.         0.         0.         0.27584393\n",
      "  0.         0.         0.         0.         0.21499898 0.\n",
      "  0.         0.         0.         0.         0.         0.\n",
      "  0.         0.         0.         0.21499898 0.         1.        ]]\n"
     ]
    }
   ],
   "source": [
    "usersimilarity = cosine_similarity(tfIdf_user)\n",
    "\n",
    "print(usersimilarity)"
   ]
  },
  {
   "cell_type": "code",
   "execution_count": 154,
   "metadata": {},
   "outputs": [],
   "source": [
    "input_vector = tfIdfVectorizer.transform([user])\n",
    "cosine_similarities = cosine_similarity(input_vector, tfIdf_user).flatten()"
   ]
  },
  {
   "cell_type": "code",
   "execution_count": 155,
   "metadata": {},
   "outputs": [],
   "source": [
    "jaccard_sim = []\n",
    "for u in users['combined'].tolist():\n",
    "    jaccard_sim.append(jaccard(set(u.lower().split()), set(user.lower().split())))\n",
    "\n",
    "similarities = cosine_similarities + jaccard_sim"
   ]
  },
  {
   "cell_type": "code",
   "execution_count": 156,
   "metadata": {},
   "outputs": [],
   "source": [
    "most_similar_user_indices = similarities.argsort()[::-1]"
   ]
  },
  {
   "attachments": {},
   "cell_type": "markdown",
   "metadata": {},
   "source": [
    "Most Similar users"
   ]
  },
  {
   "cell_type": "code",
   "execution_count": 157,
   "metadata": {},
   "outputs": [
    {
     "name": "stdout",
     "output_type": "stream",
     "text": [
      "Title: 'Software Engineer' '' \t Score: 0.7076017509973436\n",
      "Title: 'Data Scientist' 'Chennai' \t Score: 0.5489550917866551\n",
      "Title: 'Software Engineer' 'Delhi' \t Score: 0.6016081169300402\n"
     ]
    }
   ],
   "source": [
    "user_similarity_features = []\n",
    "\n",
    "for index in most_similar_user_indices:\n",
    "    if cosine_similarities[index] < 0.5:\n",
    "        break\n",
    "    print(\"Title: '{}' '{}' \\t Score: {}\".format(users.loc[index, 'Title'], users.loc[index, 'Location'], cosine_similarities[index]))\n",
    "    user_similarity_features.append(\"{}\".format(users.loc[index, 'Title']))"
   ]
  },
  {
   "cell_type": "code",
   "execution_count": 158,
   "metadata": {},
   "outputs": [
    {
     "data": {
      "text/plain": [
       "['Software Engineer', 'Data Scientist', 'Software Engineer']"
      ]
     },
     "execution_count": 158,
     "metadata": {},
     "output_type": "execute_result"
    }
   ],
   "source": [
    "user_similarity_features"
   ]
  },
  {
   "cell_type": "code",
   "execution_count": 159,
   "metadata": {},
   "outputs": [],
   "source": [
    "tfIdfVectorizer=TfidfVectorizer(use_idf=True)\n",
    "tfIdf = tfIdfVectorizer.fit_transform(ds['combined'].tolist())"
   ]
  },
  {
   "cell_type": "code",
   "execution_count": 160,
   "metadata": {},
   "outputs": [
    {
     "data": {
      "text/plain": [
       "'Data Scientist Software Engineer Machine Learning Chennai IT Software Software Engineer Data Scientist Software Engineer'"
      ]
     },
     "execution_count": 160,
     "metadata": {},
     "output_type": "execute_result"
    }
   ],
   "source": [
    "user = user + ' ' + ' '.join(user_similarity_features)\n",
    "\n",
    "user"
   ]
  },
  {
   "cell_type": "code",
   "execution_count": 161,
   "metadata": {},
   "outputs": [],
   "source": [
    "input_vector = tfIdfVectorizer.transform([user])\n",
    "cosine_similarities = cosine_similarity(input_vector, tfIdf).flatten()"
   ]
  },
  {
   "cell_type": "code",
   "execution_count": 162,
   "metadata": {},
   "outputs": [],
   "source": [
    "jaccard_sim = []\n",
    "for doc in ds['combined'].tolist():\n",
    "    jaccard_sim.append(jaccard(set(doc.lower().split()), set(user.lower().split())))\n",
    "\n",
    "similarities = cosine_similarities + jaccard_sim"
   ]
  },
  {
   "cell_type": "code",
   "execution_count": 163,
   "metadata": {},
   "outputs": [],
   "source": [
    "most_similar_indices = similarities.argsort()[::-1]"
   ]
  },
  {
   "cell_type": "code",
   "execution_count": 164,
   "metadata": {},
   "outputs": [
    {
     "name": "stdout",
     "output_type": "stream",
     "text": [
      "Title: 'Data Scientist' 'Volvo Group' 'Bengaluru, Karnataka, India' \t Score: 0.6115503257881293\n",
      "Title: 'Principal Data Scientist' 'Recruise India Consulting Pvt Ltd' 'Bangalore' \t Score: 0.56231134337494\n",
      "Title: 'Data Engineer' 'UBS Securities India Private Limite...' 'Pune' \t Score: 0.507533780612714\n",
      "Title: 'Data Scientist (Remote)' 'CES' 'Hyderabad, Telangana, India' \t Score: 0.5663804044652543\n",
      "Title: 'Senior Software Engineer' 'OEC INDIA SERVICES PRIVATE LIMITED' 'Chennai' \t Score: 0.44328352304525276\n",
      "Title: 'Data scientist' 'Vingsfire pvt ltd' 'Remote in Hyderabad, Telangana' \t Score: 0.5511442436341984\n"
     ]
    }
   ],
   "source": [
    "idx = 0\n",
    "average_after_hybrid = 0\n",
    "for index in most_similar_indices:\n",
    "    idx+=1\n",
    "    print(\"Title: '{}' '{}' '{}' \\t Score: {}\".format(ds.loc[index, 'Title'], ds.loc[index, 'Company'], ds.loc[index, 'Location'], cosine_similarities[index]))\n",
    "    average_after_hybrid += cosine_similarities[index]\n",
    "    if idx > 5:\n",
    "        break"
   ]
  },
  {
   "cell_type": "code",
   "execution_count": 165,
   "metadata": {},
   "outputs": [
    {
     "data": {
      "text/plain": [
       "0.5403672701534148"
      ]
     },
     "execution_count": 165,
     "metadata": {},
     "output_type": "execute_result"
    }
   ],
   "source": [
    "average_after_hybrid /= 6\n",
    "average_after_hybrid"
   ]
  },
  {
   "cell_type": "code",
   "execution_count": 166,
   "metadata": {},
   "outputs": [
    {
     "name": "stdout",
     "output_type": "stream",
     "text": [
      "Improvement to average matching score by using proposed hybrid model: 15.478805647301868 %\n"
     ]
    }
   ],
   "source": [
    "improvement = (average_after_hybrid/average_before_hybrid) * 100\n",
    "\n",
    "print(\"Improvement to average matching score by using proposed hybrid model:\", improvement-100, \"%\")"
   ]
  }
 ],
 "metadata": {
  "kernelspec": {
   "display_name": "Python 3",
   "language": "python",
   "name": "python3"
  },
  "language_info": {
   "codemirror_mode": {
    "name": "ipython",
    "version": 3
   },
   "file_extension": ".py",
   "mimetype": "text/x-python",
   "name": "python",
   "nbconvert_exporter": "python",
   "pygments_lexer": "ipython3",
   "version": "3.9.1"
  },
  "orig_nbformat": 4,
  "vscode": {
   "interpreter": {
    "hash": "5141b93c7f4dd1526296376213e38bee896987f0554e47aae2ed9552691fbc55"
   }
  }
 },
 "nbformat": 4,
 "nbformat_minor": 2
}
