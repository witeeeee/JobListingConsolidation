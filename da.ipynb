{
 "cells": [
  {
   "cell_type": "code",
   "execution_count": 17,
   "metadata": {},
   "outputs": [],
   "source": [
    "from selenium import webdriver\n",
    "from selenium.webdriver.common.keys import Keys\n",
    "from selenium.webdriver.common.by import By\n",
    "import pandas as pd\n",
    "import time\n",
    "import os"
   ]
  },
  {
   "cell_type": "code",
   "execution_count": 18,
   "metadata": {},
   "outputs": [
    {
     "name": "stderr",
     "output_type": "stream",
     "text": [
      "<ipython-input-18-afcb35b52ecc>:1: DeprecationWarning: executable_path has been deprecated, please pass in a Service object\n",
      "  driver = webdriver.Chrome(\"C:\\Sid folder\\Studies\\Sem 6\\Web Mining\\DA Project\\chromedriverold.exe\")\n"
     ]
    }
   ],
   "source": [
    "driver = webdriver.Chrome(\"C:\\Sid folder\\Studies\\Sem 6\\Web Mining\\DA Project\\chromedriverold.exe\")\n",
    "\n",
    "driver.get('https://www.linkedin.com/jobs/search?keywords=&location=India')\n",
    "driver.maximize_window()"
   ]
  },
  {
   "cell_type": "code",
   "execution_count": 19,
   "metadata": {},
   "outputs": [],
   "source": [
    "no_of_jobs = 1000"
   ]
  },
  {
   "cell_type": "code",
   "execution_count": 20,
   "metadata": {},
   "outputs": [],
   "source": [
    "i = 2\n",
    "while i <= int(no_of_jobs/25)+1: \n",
    "    driver.execute_script(\"window.scrollTo(0, document.body.scrollHeight);\")\n",
    "    i = i + 1\n",
    "    try:\n",
    "        driver.find_element(By.XPATH, \"/html/body/div/div/main/section/button\").click()\n",
    "        time.sleep(3)\n",
    "    except:\n",
    "        pass\n",
    "        time.sleep(3)"
   ]
  },
  {
   "cell_type": "code",
   "execution_count": 21,
   "metadata": {},
   "outputs": [
    {
     "data": {
      "text/plain": [
       "993"
      ]
     },
     "execution_count": 21,
     "metadata": {},
     "output_type": "execute_result"
    }
   ],
   "source": [
    "job_list = driver.find_element(By.CLASS_NAME, \"jobs-search__results-list\")\n",
    "jobs = job_list.find_elements(By.TAG_NAME, \"li\")\n",
    "\n",
    "len(jobs)"
   ]
  },
  {
   "cell_type": "code",
   "execution_count": 22,
   "metadata": {},
   "outputs": [],
   "source": [
    "job_title = []\n",
    "company_name = []\n",
    "location = []\n",
    "job_link = []\n",
    "emp_type = []"
   ]
  },
  {
   "cell_type": "code",
   "execution_count": 23,
   "metadata": {},
   "outputs": [],
   "source": [
    "for job in jobs:\n",
    "\n",
    "    try:\n",
    "        temp = job.find_element(By.CSS_SELECTOR, \"h3\").get_attribute(\"innerText\")\n",
    "        job_title.append(temp)\n",
    "\n",
    "        temp = job.find_element(By.CSS_SELECTOR, \"h4\").get_attribute(\"innerText\")\n",
    "        company_name.append(temp)\n",
    "\n",
    "        temp = job.find_element(By.CSS_SELECTOR, \"[class = 'job-search-card__location']\").get_attribute(\"innerText\")\n",
    "        location.append(temp)\n",
    "\n",
    "        temp = job.find_element(By.CSS_SELECTOR, \"a\").get_attribute(\"href\")\n",
    "        job_link.append(temp)\n",
    "    except:\n",
    "        continue\n",
    "\n"
   ]
  },
  {
   "cell_type": "code",
   "execution_count": 24,
   "metadata": {},
   "outputs": [],
   "source": [
    "for i in range(len(jobs)):\n",
    "    tempjobfunc = 0\n",
    "    tempindustry = 0\n",
    "\n",
    "    job_click = f\"/html/body/div[1]/div/main/section/ul/li[{i+1}]/div/a\"\n",
    "    try:\n",
    "        click = job.find_element(By.XPATH, job_click).click()\n",
    "        time.sleep(2.5)\n",
    "    except:\n",
    "        emp_type.append(\"None\")\n",
    "        continue\n",
    "\n",
    "    try:\n",
    "        type_path = \"/html/body/div[1]/div/section/div[2]/div/section[1]/div/ul/li[2]/span\"\n",
    "        temp = job.find_element(By.XPATH, type_path).get_attribute(\"innerText\")\n",
    "        emp_type.append(temp.replace(\"\\n\", \"\").strip())\n",
    "    except:\n",
    "        emp_type.append(\"None\")"
   ]
  },
  {
   "cell_type": "code",
   "execution_count": 25,
   "metadata": {},
   "outputs": [
    {
     "name": "stdout",
     "output_type": "stream",
     "text": [
      "Urgent Hiring For Airport Ground staff\n",
      "Airport Authority Of India\n",
      "Amritsar/Ludhiana Area\n",
      "Full-time\n",
      "\n",
      "Fresher Selection For Indian Oil Corporation Ltd job in Kolkata.\n",
      "Indian Oil Corporation Limited\n",
      "Raniganj, Bihar, India\n",
      "Full-time\n",
      "\n",
      "Plant Equipment\n",
      "Steel Authority of India Limited\n",
      "Silchar, Assam, India\n",
      "Full-time\n",
      "\n",
      "Maintenance Engineer\n",
      "Hotel Sahara Star\n",
      "Silchar, Assam, India\n",
      "Full-time\n",
      "\n",
      "Simple Typing /Online Data Entry/Work From Home /Part Time Job\n",
      "SP Solution\n",
      "Hyderabad, Telangana, India\n",
      "Part-time\n",
      "\n",
      "MECHANICAL FITTER\n",
      "Alliance Recruitment Agency\n",
      "Bharuch, Gujarat, India\n",
      "Full-time\n",
      "\n",
      "Port Maintenance\n",
      "Adani Power\n",
      "Bengaluru, Karnataka, India\n",
      "Full-time\n",
      "\n",
      "Relationship Manager\n",
      "PropTiger.com\n",
      "Pune, Maharashtra, India\n",
      "Full-time\n",
      "\n",
      "Indian Oil Corporation Ltd Hiring for Supervisor & Back Office\n",
      "Indian Oil Corporation Limited\n",
      "Raniganj, Bihar, India\n",
      "Full-time\n",
      "\n",
      "Data Analyst\n",
      "Poshmark\n",
      "Pune, Maharashtra, India\n",
      "Full-time\n",
      "\n"
     ]
    }
   ],
   "source": [
    "for i in range(10):\n",
    "    print(job_title[i], company_name[i], location[i], emp_type[i], sep = \"\\n\")\n",
    "    print()\n",
    "\n",
    "driver.close()"
   ]
  },
  {
   "cell_type": "code",
   "execution_count": 26,
   "metadata": {},
   "outputs": [
    {
     "name": "stdout",
     "output_type": "stream",
     "text": [
      "db.csv already exists.\n"
     ]
    }
   ],
   "source": [
    "filename = \"db.csv\"\n",
    "\n",
    "if not os.path.exists(filename):\n",
    "    with open(filename, \"w\"):\n",
    "        print(f\"{filename} has been created.\")\n",
    "else:\n",
    "    print(f\"{filename} already exists.\")"
   ]
  },
  {
   "cell_type": "code",
   "execution_count": 27,
   "metadata": {},
   "outputs": [
    {
     "data": {
      "text/html": [
       "<div>\n",
       "<style scoped>\n",
       "    .dataframe tbody tr th:only-of-type {\n",
       "        vertical-align: middle;\n",
       "    }\n",
       "\n",
       "    .dataframe tbody tr th {\n",
       "        vertical-align: top;\n",
       "    }\n",
       "\n",
       "    .dataframe thead th {\n",
       "        text-align: right;\n",
       "    }\n",
       "</style>\n",
       "<table border=\"1\" class=\"dataframe\">\n",
       "  <thead>\n",
       "    <tr style=\"text-align: right;\">\n",
       "      <th></th>\n",
       "      <th>Title</th>\n",
       "      <th>Company</th>\n",
       "      <th>Location</th>\n",
       "      <th>Type</th>\n",
       "      <th>Link</th>\n",
       "    </tr>\n",
       "  </thead>\n",
       "  <tbody>\n",
       "    <tr>\n",
       "      <th>0</th>\n",
       "      <td>Urgent Hiring For Airport Ground staff</td>\n",
       "      <td>Airport Authority Of India</td>\n",
       "      <td>Amritsar/Ludhiana Area</td>\n",
       "      <td>Full-time</td>\n",
       "      <td>https://in.linkedin.com/jobs/view/urgent-hirin...</td>\n",
       "    </tr>\n",
       "    <tr>\n",
       "      <th>1</th>\n",
       "      <td>Fresher Selection For Indian Oil Corporation L...</td>\n",
       "      <td>Indian Oil Corporation Limited</td>\n",
       "      <td>Raniganj, Bihar, India</td>\n",
       "      <td>Full-time</td>\n",
       "      <td>https://in.linkedin.com/jobs/view/fresher-sele...</td>\n",
       "    </tr>\n",
       "    <tr>\n",
       "      <th>2</th>\n",
       "      <td>Plant Equipment</td>\n",
       "      <td>Steel Authority of India Limited</td>\n",
       "      <td>Silchar, Assam, India</td>\n",
       "      <td>Full-time</td>\n",
       "      <td>https://in.linkedin.com/jobs/view/plant-equipm...</td>\n",
       "    </tr>\n",
       "    <tr>\n",
       "      <th>3</th>\n",
       "      <td>Maintenance Engineer</td>\n",
       "      <td>Hotel Sahara Star</td>\n",
       "      <td>Silchar, Assam, India</td>\n",
       "      <td>Full-time</td>\n",
       "      <td>https://in.linkedin.com/jobs/view/maintenance-...</td>\n",
       "    </tr>\n",
       "    <tr>\n",
       "      <th>4</th>\n",
       "      <td>Simple Typing /Online Data Entry/Work From Hom...</td>\n",
       "      <td>SP Solution</td>\n",
       "      <td>Hyderabad, Telangana, India</td>\n",
       "      <td>Part-time</td>\n",
       "      <td>https://in.linkedin.com/jobs/view/simple-typin...</td>\n",
       "    </tr>\n",
       "    <tr>\n",
       "      <th>...</th>\n",
       "      <td>...</td>\n",
       "      <td>...</td>\n",
       "      <td>...</td>\n",
       "      <td>...</td>\n",
       "      <td>...</td>\n",
       "    </tr>\n",
       "    <tr>\n",
       "      <th>988</th>\n",
       "      <td>Ground &amp; Ticketing Staff hiring for all Chatti...</td>\n",
       "      <td>Airport authorities international airport pvt ltd</td>\n",
       "      <td>Raipur, Chhattisgarh, India</td>\n",
       "      <td>None</td>\n",
       "      <td>https://in.linkedin.com/jobs/view/ground-ticke...</td>\n",
       "    </tr>\n",
       "    <tr>\n",
       "      <th>989</th>\n",
       "      <td>Area Sales Manager - Laminates/Sunmica</td>\n",
       "      <td>Glan Management Consultancy- Career, Jobs, Hiring</td>\n",
       "      <td>Kolkata, West Bengal, India</td>\n",
       "      <td>Full-time</td>\n",
       "      <td>https://in.linkedin.com/jobs/view/area-sales-m...</td>\n",
       "    </tr>\n",
       "    <tr>\n",
       "      <th>990</th>\n",
       "      <td>Human Resources (HR) work from home job/intern...</td>\n",
       "      <td>Endeavor Academy</td>\n",
       "      <td>India</td>\n",
       "      <td>Part-time</td>\n",
       "      <td>https://in.linkedin.com/jobs/view/human-resour...</td>\n",
       "    </tr>\n",
       "    <tr>\n",
       "      <th>991</th>\n",
       "      <td>Customer Service Officer</td>\n",
       "      <td>DBS Bank</td>\n",
       "      <td>Bhubaneshwar, Odisha, India</td>\n",
       "      <td>Full-time</td>\n",
       "      <td>https://in.linkedin.com/jobs/view/customer-ser...</td>\n",
       "    </tr>\n",
       "    <tr>\n",
       "      <th>992</th>\n",
       "      <td>Work from Home Jobs</td>\n",
       "      <td>AppSoft Solutions</td>\n",
       "      <td>Mumbai, Maharashtra, India</td>\n",
       "      <td>Full-time</td>\n",
       "      <td>https://in.linkedin.com/jobs/view/work-from-ho...</td>\n",
       "    </tr>\n",
       "  </tbody>\n",
       "</table>\n",
       "<p>993 rows × 5 columns</p>\n",
       "</div>"
      ],
      "text/plain": [
       "                                                 Title  \\\n",
       "0               Urgent Hiring For Airport Ground staff   \n",
       "1    Fresher Selection For Indian Oil Corporation L...   \n",
       "2                                      Plant Equipment   \n",
       "3                                 Maintenance Engineer   \n",
       "4    Simple Typing /Online Data Entry/Work From Hom...   \n",
       "..                                                 ...   \n",
       "988  Ground & Ticketing Staff hiring for all Chatti...   \n",
       "989             Area Sales Manager - Laminates/Sunmica   \n",
       "990  Human Resources (HR) work from home job/intern...   \n",
       "991                           Customer Service Officer   \n",
       "992                                Work from Home Jobs   \n",
       "\n",
       "                                               Company  \\\n",
       "0                           Airport Authority Of India   \n",
       "1                       Indian Oil Corporation Limited   \n",
       "2                     Steel Authority of India Limited   \n",
       "3                                    Hotel Sahara Star   \n",
       "4                                          SP Solution   \n",
       "..                                                 ...   \n",
       "988  Airport authorities international airport pvt ltd   \n",
       "989  Glan Management Consultancy- Career, Jobs, Hiring   \n",
       "990                                   Endeavor Academy   \n",
       "991                                           DBS Bank   \n",
       "992                                  AppSoft Solutions   \n",
       "\n",
       "                        Location       Type  \\\n",
       "0         Amritsar/Ludhiana Area  Full-time   \n",
       "1         Raniganj, Bihar, India  Full-time   \n",
       "2          Silchar, Assam, India  Full-time   \n",
       "3          Silchar, Assam, India  Full-time   \n",
       "4    Hyderabad, Telangana, India  Part-time   \n",
       "..                           ...        ...   \n",
       "988  Raipur, Chhattisgarh, India       None   \n",
       "989  Kolkata, West Bengal, India  Full-time   \n",
       "990                        India  Part-time   \n",
       "991  Bhubaneshwar, Odisha, India  Full-time   \n",
       "992   Mumbai, Maharashtra, India  Full-time   \n",
       "\n",
       "                                                  Link  \n",
       "0    https://in.linkedin.com/jobs/view/urgent-hirin...  \n",
       "1    https://in.linkedin.com/jobs/view/fresher-sele...  \n",
       "2    https://in.linkedin.com/jobs/view/plant-equipm...  \n",
       "3    https://in.linkedin.com/jobs/view/maintenance-...  \n",
       "4    https://in.linkedin.com/jobs/view/simple-typin...  \n",
       "..                                                 ...  \n",
       "988  https://in.linkedin.com/jobs/view/ground-ticke...  \n",
       "989  https://in.linkedin.com/jobs/view/area-sales-m...  \n",
       "990  https://in.linkedin.com/jobs/view/human-resour...  \n",
       "991  https://in.linkedin.com/jobs/view/customer-ser...  \n",
       "992  https://in.linkedin.com/jobs/view/work-from-ho...  \n",
       "\n",
       "[993 rows x 5 columns]"
      ]
     },
     "metadata": {},
     "output_type": "display_data"
    }
   ],
   "source": [
    "job_data = pd.DataFrame({\n",
    "    \"Title\": job_title,\n",
    "    \"Company\": company_name,\n",
    "    \"Location\": location,\n",
    "    \"Type\": emp_type,\n",
    "    \"Link\": job_link\n",
    "})\n",
    "\n",
    "display(job_data)\n",
    "\n",
    "job_data.to_csv(\"db.csv\", mode = 'a', index = False, header = False)"
   ]
  }
 ],
 "metadata": {
  "kernelspec": {
   "display_name": "Python 3",
   "language": "python",
   "name": "python3"
  },
  "language_info": {
   "codemirror_mode": {
    "name": "ipython",
    "version": 3
   },
   "file_extension": ".py",
   "mimetype": "text/x-python",
   "name": "python",
   "nbconvert_exporter": "python",
   "pygments_lexer": "ipython3",
   "version": "3.9.1"
  },
  "orig_nbformat": 4,
  "vscode": {
   "interpreter": {
    "hash": "5141b93c7f4dd1526296376213e38bee896987f0554e47aae2ed9552691fbc55"
   }
  }
 },
 "nbformat": 4,
 "nbformat_minor": 2
}
